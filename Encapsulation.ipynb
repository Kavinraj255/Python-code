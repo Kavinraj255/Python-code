{
 "cells": [
  {
   "cell_type": "code",
   "execution_count": 4,
   "id": "2d0cd27f-bdd0-4d69-962c-26c37310ec59",
   "metadata": {},
   "outputs": [
    {
     "name": "stdout",
     "output_type": "stream",
     "text": [
      "pavai\n",
      "Eshwar\n"
     ]
    }
   ],
   "source": [
    "class college:\n",
    "    def __init__(self,name):\n",
    "        self.name = name\n",
    "stu = college(\"pavai\")\n",
    "print(stu.name)\n",
    "# stu.name\n",
    "stu.name = \"Eshwar\"\n",
    "print(stu.name)"
   ]
  },
  {
   "cell_type": "code",
   "execution_count": 16,
   "id": "bccbc3da-f3ed-4d60-bbda-bd87fbd235f4",
   "metadata": {},
   "outputs": [
    {
     "name": "stdout",
     "output_type": "stream",
     "text": [
      "kavin 500000\n"
     ]
    }
   ],
   "source": [
    "class college:\n",
    "    def __init__(self,name, salary):\n",
    "        self.name = name\n",
    "        self._salary = salary\n",
    "        \n",
    "class student(college):\n",
    "    def show_salary(self):\n",
    "        print(f\"{self.name} {self._salary}\")\n",
    "        \n",
    "p1 = student(\"kavin\", 500000)\n",
    "p1.show_salary()\n",
    "# print(p1._name)\n",
    "        "
   ]
  },
  {
   "cell_type": "code",
   "execution_count": 19,
   "id": "73e43aba-fd16-4784-acc5-2ee98314f3e4",
   "metadata": {},
   "outputs": [
    {
     "name": "stdout",
     "output_type": "stream",
     "text": [
      "50000\n"
     ]
    }
   ],
   "source": [
    "class college:\n",
    "    def __init__(self, name, salary):\n",
    "        self.name = name\n",
    "        self.__salary = salary\n",
    "# class student(college):\n",
    "    def show_salary(self):\n",
    "        print(f\"{self.__salary}\")\n",
    "p1 = college(\"kavin\",50000)\n",
    "p1.show_salary()"
   ]
  },
  {
   "cell_type": "code",
   "execution_count": null,
   "id": "c9cb60a8-9ae9-4d56-80e8-cfa9982e410f",
   "metadata": {},
   "outputs": [],
   "source": []
  }
 ],
 "metadata": {
  "kernelspec": {
   "display_name": "Python 3 (ipykernel)",
   "language": "python",
   "name": "python3"
  },
  "language_info": {
   "codemirror_mode": {
    "name": "ipython",
    "version": 3
   },
   "file_extension": ".py",
   "mimetype": "text/x-python",
   "name": "python",
   "nbconvert_exporter": "python",
   "pygments_lexer": "ipython3",
   "version": "3.12.7"
  }
 },
 "nbformat": 4,
 "nbformat_minor": 5
}
