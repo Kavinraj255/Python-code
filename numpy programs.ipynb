{
 "cells": [
  {
   "cell_type": "markdown",
   "id": "d0ad595f-28f4-4deb-a192-28a1e8f70349",
   "metadata": {},
   "source": [
    "### NUMPY"
   ]
  },
  {
   "cell_type": "code",
   "execution_count": 3,
   "id": "46d4e287-d47e-4e3b-8039-b45e54eb5daa",
   "metadata": {},
   "outputs": [
    {
     "name": "stdout",
     "output_type": "stream",
     "text": [
      "int32\n"
     ]
    }
   ],
   "source": [
    "import numpy as n\n",
    "a = n.array([1, 2, 3, 4])\n",
    "print(a.dtype)"
   ]
  },
  {
   "cell_type": "code",
   "execution_count": 9,
   "id": "2464e471-4698-49b5-bbbf-483a792172c4",
   "metadata": {},
   "outputs": [
    {
     "name": "stdout",
     "output_type": "stream",
     "text": [
      "<U4\n",
      "<U4\n",
      "float64\n",
      "complex128\n",
      "<U2\n"
     ]
    }
   ],
   "source": [
    "import numpy as n\n",
    "a = n.array([\"av\", \"ax23\"])\n",
    "print(a.dtype)\n",
    "b = n.array([\"a.33\"])\n",
    "print(b.dtype)\n",
    "c = n.array([2.3,4.5])\n",
    "print(c.dtype)\n",
    "d = n.array([1+3j])\n",
    "print(d.dtype)\n",
    "E = n.array([\"is\"])\n",
    "print(E.dtype)"
   ]
  },
  {
   "cell_type": "markdown",
   "id": "401fb83e-df29-4a16-9561-1d9689c0c8d8",
   "metadata": {},
   "source": [
    "### Change datatype"
   ]
  },
  {
   "cell_type": "code",
   "execution_count": 10,
   "id": "6a422216-9d3a-448e-b382-52778f34e64c",
   "metadata": {},
   "outputs": [
    {
     "name": "stdout",
     "output_type": "stream",
     "text": [
      "|S1\n"
     ]
    }
   ],
   "source": [
    "import numpy as n\n",
    "a = n.array([1, 2, 3, 4], dtype = \"S\")\n",
    "print(a.dtype)"
   ]
  },
  {
   "cell_type": "code",
   "execution_count": 13,
   "id": "d33ac6a3-1ded-4348-ae61-0db7cb7b9a30",
   "metadata": {},
   "outputs": [
    {
     "name": "stdout",
     "output_type": "stream",
     "text": [
      "int64\n"
     ]
    }
   ],
   "source": [
    "import numpy as n\n",
    "a = n.array([1,2,3],  dtype='i8')\n",
    "print(a.dtype)"
   ]
  },
  {
   "cell_type": "code",
   "execution_count": 18,
   "id": "87a3f2eb-0c77-4e08-9d1a-948de54f4ce9",
   "metadata": {},
   "outputs": [
    {
     "name": "stdout",
     "output_type": "stream",
     "text": [
      "float32\n"
     ]
    }
   ],
   "source": [
    "import numpy as n\n",
    "a = n.array([2.3,4.56], \"f4\")\n",
    "print(a.dtype)"
   ]
  },
  {
   "cell_type": "code",
   "execution_count": 21,
   "id": "5392f451-c4e0-4190-8c03-f10306e3fe74",
   "metadata": {},
   "outputs": [
    {
     "name": "stdout",
     "output_type": "stream",
     "text": [
      "[b's' b'jungbook23' b'222357']\n",
      "|S10\n"
     ]
    }
   ],
   "source": [
    "import numpy as n\n",
    "a = n.array(['s', 'jungbook23','222357'], dtype='S')\n",
    "print(a)\n",
    "print(a.dtype)"
   ]
  },
  {
   "cell_type": "code",
   "execution_count": 22,
   "id": "907d0db8-6e4a-414b-8254-c6397617dae1",
   "metadata": {},
   "outputs": [
    {
     "name": "stdout",
     "output_type": "stream",
     "text": [
      "[1. 2. 3. 4.]\n",
      "float64\n"
     ]
    }
   ],
   "source": [
    "import numpy as n\n",
    "a = n.array([1,2,3,4], dtype = \"f8\")\n",
    "print(a)\n",
    "print(a.dtype)"
   ]
  },
  {
   "cell_type": "markdown",
   "id": "271ca34e-de3a-425c-a916-eafdf8467a0f",
   "metadata": {},
   "source": [
    "### Copy And View"
   ]
  },
  {
   "cell_type": "code",
   "execution_count": 23,
   "id": "db141d71-73b0-4af6-b57c-3fb63c7ffba6",
   "metadata": {},
   "outputs": [
    {
     "name": "stdout",
     "output_type": "stream",
     "text": [
      "[1 2 3 4]\n",
      "[11  2  3  4]\n"
     ]
    }
   ],
   "source": [
    "import numpy as n\n",
    "a = n.array([1,2,3,4])\n",
    "b = a.copy()\n",
    "b[0] = 11\n",
    "print(a)\n",
    "print(b)"
   ]
  },
  {
   "cell_type": "code",
   "execution_count": 25,
   "id": "3baba9ca-d56a-4bbe-aea2-729300ab5539",
   "metadata": {},
   "outputs": [
    {
     "name": "stdout",
     "output_type": "stream",
     "text": [
      "[33  2  3  6]\n",
      "[33  2  3  6]\n"
     ]
    }
   ],
   "source": [
    "import numpy as n\n",
    "a = n.array([1,2,3,6])\n",
    "b = a.view()\n",
    "b[0] = 33\n",
    "print(a)\n",
    "print(b)"
   ]
  },
  {
   "cell_type": "code",
   "execution_count": 27,
   "id": "ff577152-6ec2-46af-a24f-6c29578d5136",
   "metadata": {},
   "outputs": [
    {
     "name": "stdout",
     "output_type": "stream",
     "text": [
      "int64\n"
     ]
    }
   ],
   "source": [
    "import numpy as n\n",
    "a = n.array([1,2,3,5], dtype = 'i8')\n",
    "print(a.dtype)"
   ]
  },
  {
   "cell_type": "code",
   "execution_count": 31,
   "id": "bd6c1e0c-485b-4968-bce4-4f4dfeea5d95",
   "metadata": {},
   "outputs": [
    {
     "name": "stdout",
     "output_type": "stream",
     "text": [
      "1\n",
      "2\n",
      "3\n",
      "4\n",
      "2\n",
      "3\n",
      "4\n",
      "5\n"
     ]
    }
   ],
   "source": [
    "import numpy as n\n",
    "a = n.array([[1,2,3,4],[2,3,4,5]])\n",
    "for x in a:\n",
    "    for y in x:\n",
    "        print(y)\n",
    "    "
   ]
  },
  {
   "cell_type": "code",
   "execution_count": 34,
   "id": "752d70b1-4058-4e99-8fff-813d55e98800",
   "metadata": {},
   "outputs": [
    {
     "name": "stdout",
     "output_type": "stream",
     "text": [
      "1\n",
      "2\n",
      "3\n",
      "4\n",
      "3\n",
      "4\n",
      "5\n",
      "6\n"
     ]
    }
   ],
   "source": [
    "import numpy as n\n",
    "\n",
    "a = n.array([[1,2,3,4], [3,4,5,6]])\n",
    "for x in a:\n",
    "    for y in x:\n",
    "        print(y)\n",
    "    "
   ]
  },
  {
   "cell_type": "code",
   "execution_count": 36,
   "id": "89bbcffb-b4a0-4352-b4a7-0b531224ef3f",
   "metadata": {},
   "outputs": [
    {
     "name": "stdout",
     "output_type": "stream",
     "text": [
      "(0, 0) 2\n",
      "(0, 1) 3\n",
      "(0, 2) 4\n",
      "(0, 3) 5\n",
      "(1, 0) 5\n",
      "(1, 1) 6\n",
      "(1, 2) 7\n",
      "(1, 3) 8\n"
     ]
    }
   ],
   "source": [
    "import numpy as n\n",
    "a = n.array([[2,3,4,5], [5,6,7,8]])\n",
    "for i, x in n.ndenumerate(a):\n",
    "    print(i, x)"
   ]
  },
  {
   "cell_type": "code",
   "execution_count": 37,
   "id": "eef0d3c0-6b41-47f7-97a3-1612770b888d",
   "metadata": {},
   "outputs": [
    {
     "name": "stdout",
     "output_type": "stream",
     "text": [
      "[[ 1.   2.   3. ]\n",
      " [ 5.   6.   7. ]\n",
      " [11.  12.  13.2]\n",
      " [ 1.2  5.6 77. ]]\n"
     ]
    }
   ],
   "source": [
    "import numpy as n\n",
    "\n",
    "a = n.array([[1,2,3],[5,6,7]])\n",
    "b = n.array([[11,12,13.2],[1.2,5.6,77]])\n",
    "c = n.concatenate((a, b))\n",
    "print(c)"
   ]
  },
  {
   "cell_type": "code",
   "execution_count": null,
   "id": "44fed1a5-7c6a-4957-ab7b-43758518afee",
   "metadata": {},
   "outputs": [],
   "source": [
    "import numpy as n\n",
    "\n",
    "a = "
   ]
  }
 ],
 "metadata": {
  "kernelspec": {
   "display_name": "Python 3 (ipykernel)",
   "language": "python",
   "name": "python3"
  },
  "language_info": {
   "codemirror_mode": {
    "name": "ipython",
    "version": 3
   },
   "file_extension": ".py",
   "mimetype": "text/x-python",
   "name": "python",
   "nbconvert_exporter": "python",
   "pygments_lexer": "ipython3",
   "version": "3.12.7"
  }
 },
 "nbformat": 4,
 "nbformat_minor": 5
}
