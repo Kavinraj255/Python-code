{
 "cells": [
  {
   "cell_type": "markdown",
   "id": "fe99cd87-1cc0-4a56-a6f4-54fcb143b61b",
   "metadata": {},
   "source": [
    "### Variables & Values"
   ]
  },
  {
   "cell_type": "code",
   "execution_count": null,
   "id": "7417bfb3-2fce-4a8b-96f3-367ddb30bf8c",
   "metadata": {},
   "outputs": [],
   "source": [
    "Single line command"
   ]
  },
  {
   "cell_type": "code",
   "execution_count": 1,
   "id": "31da8491-a00c-41d8-9783-59c34cdff692",
   "metadata": {},
   "outputs": [],
   "source": [
    "#a = 12"
   ]
  },
  {
   "cell_type": "code",
   "execution_count": 4,
   "id": "21dc839c-58e4-4a1d-b8ca-2582077fa63a",
   "metadata": {},
   "outputs": [
    {
     "data": {
      "text/plain": [
       "'a = 2\\nb = 3\\na+b'"
      ]
     },
     "execution_count": 4,
     "metadata": {},
     "output_type": "execute_result"
    }
   ],
   "source": [
    "#Multi Line Command\n",
    "'''a = 2\n",
    "b = 3\n",
    "a+b'''"
   ]
  },
  {
   "cell_type": "code",
   "execution_count": 6,
   "id": "33a352c4-f039-4253-8f0a-8c20d87fc966",
   "metadata": {},
   "outputs": [
    {
     "ename": "SyntaxError",
     "evalue": "invalid syntax (83534124.py, line 1)",
     "output_type": "error",
     "traceback": [
      "\u001b[1;36m  Cell \u001b[1;32mIn[6], line 1\u001b[1;36m\u001b[0m\n\u001b[1;33m    @var e= 1\u001b[0m\n\u001b[1;37m         ^\u001b[0m\n\u001b[1;31mSyntaxError\u001b[0m\u001b[1;31m:\u001b[0m invalid syntax\n"
     ]
    }
   ],
   "source": [
    "@var e= 1\n",
    "@var2 r = 4\n",
    "@var e+@var2 r"
   ]
  },
  {
   "cell_type": "code",
   "execution_count": 7,
   "id": "40cad8f1-e283-4793-81d4-5aae75935acb",
   "metadata": {},
   "outputs": [
    {
     "ename": "SyntaxError",
     "evalue": "invalid decimal literal (436253658.py, line 1)",
     "output_type": "error",
     "traceback": [
      "\u001b[1;36m  Cell \u001b[1;32mIn[7], line 1\u001b[1;36m\u001b[0m\n\u001b[1;33m    1r = 1\u001b[0m\n\u001b[1;37m    ^\u001b[0m\n\u001b[1;31mSyntaxError\u001b[0m\u001b[1;31m:\u001b[0m invalid decimal literal\n"
     ]
    }
   ],
   "source": [
    "1r = 1\n",
    "2e = 4\n",
    "1r+2e"
   ]
  },
  {
   "cell_type": "code",
   "execution_count": 8,
   "id": "a54656ec-bfdb-499d-9edd-328583d55878",
   "metadata": {},
   "outputs": [
    {
     "ename": "SyntaxError",
     "evalue": "cannot assign to expression here. Maybe you meant '==' instead of '='? (1773090156.py, line 1)",
     "output_type": "error",
     "traceback": [
      "\u001b[1;36m  Cell \u001b[1;32mIn[8], line 1\u001b[1;36m\u001b[0m\n\u001b[1;33m    asq-w = 2\u001b[0m\n\u001b[1;37m    ^\u001b[0m\n\u001b[1;31mSyntaxError\u001b[0m\u001b[1;31m:\u001b[0m cannot assign to expression here. Maybe you meant '==' instead of '='?\n"
     ]
    }
   ],
   "source": [
    "asq-w = 2\n",
    "asp-e = 5\n",
    "asq-w+asp-e"
   ]
  },
  {
   "cell_type": "code",
   "execution_count": 11,
   "id": "51147a3d-d899-4d4a-bcf8-198caba552f4",
   "metadata": {},
   "outputs": [
    {
     "data": {
      "text/plain": [
       "(12, 34, 5)"
      ]
     },
     "execution_count": 11,
     "metadata": {},
     "output_type": "execute_result"
    }
   ],
   "source": [
    "a,b,c = 12,34,5\n",
    "d = 34\n",
    "a,b,c"
   ]
  },
  {
   "cell_type": "code",
   "execution_count": 12,
   "id": "9d6c8e9e-91e7-4c18-bf73-5c4362998baf",
   "metadata": {},
   "outputs": [
    {
     "data": {
      "text/plain": [
       "57"
      ]
     },
     "execution_count": 12,
     "metadata": {},
     "output_type": "execute_result"
    }
   ],
   "source": [
    "#static values\n",
    "a = 23\n",
    "b = 34\n",
    "a+b"
   ]
  },
  {
   "cell_type": "code",
   "execution_count": 15,
   "id": "6c0bd47f-68d8-4a7a-95ea-2bebbcec8cf1",
   "metadata": {},
   "outputs": [
    {
     "name": "stdin",
     "output_type": "stream",
     "text": [
      "Enter the number: 12\n",
      "Enter the number: 34.5\n"
     ]
    },
    {
     "name": "stdout",
     "output_type": "stream",
     "text": [
      "<class 'int'>\n",
      "<class 'float'>\n"
     ]
    }
   ],
   "source": [
    "#Dynamic Values\n",
    "\n",
    "a = int(input(\"Enter the number:\"))\n",
    "b = float(input(\"Enter the number:\"))\n",
    "a+b\n",
    "print(type(a))\n",
    "print(type(b))"
   ]
  },
  {
   "cell_type": "markdown",
   "id": "6988f3b8-8f38-4da9-abcb-ec88573a0734",
   "metadata": {},
   "source": [
    "### String"
   ]
  },
  {
   "cell_type": "code",
   "execution_count": 16,
   "id": "3ee2e6be-6fd2-435a-9645-dda8c32a5b82",
   "metadata": {},
   "outputs": [
    {
     "data": {
      "text/plain": [
       "'Hi'"
      ]
     },
     "execution_count": 16,
     "metadata": {},
     "output_type": "execute_result"
    }
   ],
   "source": [
    "a = \"Hi\"\n",
    "a"
   ]
  },
  {
   "cell_type": "code",
   "execution_count": 18,
   "id": "9717b698-0dfa-4318-a1dd-6af6b0d33142",
   "metadata": {},
   "outputs": [
    {
     "name": "stdin",
     "output_type": "stream",
     "text": [
      "Enter the variable 23\n"
     ]
    },
    {
     "name": "stdout",
     "output_type": "stream",
     "text": [
      "<class 'str'>\n"
     ]
    }
   ],
   "source": [
    "a = input(\"Enter the variable\")\n",
    "a\n",
    "print(type(a))"
   ]
  },
  {
   "cell_type": "markdown",
   "id": "13d5cbff-5e7a-450b-87e3-29f453ead38e",
   "metadata": {},
   "source": [
    "### Casting"
   ]
  },
  {
   "cell_type": "code",
   "execution_count": 19,
   "id": "b28bf5e1-31fb-454b-b863-7510ebcb998c",
   "metadata": {},
   "outputs": [
    {
     "data": {
      "text/plain": [
       "'2'"
      ]
     },
     "execution_count": 19,
     "metadata": {},
     "output_type": "execute_result"
    }
   ],
   "source": [
    "a = 2\n",
    "b = str(a)\n",
    "b"
   ]
  },
  {
   "cell_type": "code",
   "execution_count": 21,
   "id": "46857a20-242c-4002-ae15-9f6eb1af2a8e",
   "metadata": {},
   "outputs": [
    {
     "data": {
      "text/plain": [
       "2.0"
      ]
     },
     "execution_count": 21,
     "metadata": {},
     "output_type": "execute_result"
    }
   ],
   "source": [
    "a = 2\n",
    "b = float(a)\n",
    "b"
   ]
  },
  {
   "cell_type": "code",
   "execution_count": 22,
   "id": "2e51bd99-22f2-46f5-8f09-472976591722",
   "metadata": {},
   "outputs": [
    {
     "data": {
      "text/plain": [
       "(2+0j)"
      ]
     },
     "execution_count": 22,
     "metadata": {},
     "output_type": "execute_result"
    }
   ],
   "source": [
    "a = 2\n",
    "b = complex(a)\n",
    "b                                   \n",
    "# A number can converted into all datatypes\n",
    "#1.Str\n",
    "#2.float\n",
    "#3.complex"
   ]
  },
  {
   "cell_type": "markdown",
   "id": "c48d12e0-68e5-424a-98b5-c0f09c5ba419",
   "metadata": {},
   "source": [
    "### Float"
   ]
  },
  {
   "cell_type": "code",
   "execution_count": 23,
   "id": "4f17e6d7-72fa-4c7f-bec8-83d6483a46a6",
   "metadata": {},
   "outputs": [
    {
     "data": {
      "text/plain": [
       "'2.8'"
      ]
     },
     "execution_count": 23,
     "metadata": {},
     "output_type": "execute_result"
    }
   ],
   "source": [
    "a = 2.8\n",
    "b = str(a)\n",
    "b"
   ]
  },
  {
   "cell_type": "code",
   "execution_count": 24,
   "id": "9548df3f-3cf6-4061-a006-57ac725ed405",
   "metadata": {},
   "outputs": [
    {
     "data": {
      "text/plain": [
       "2"
      ]
     },
     "execution_count": 24,
     "metadata": {},
     "output_type": "execute_result"
    }
   ],
   "source": [
    "a = 2.8\n",
    "b = int(a)\n",
    "b"
   ]
  },
  {
   "cell_type": "code",
   "execution_count": 25,
   "id": "59668abe-52c8-4004-84ad-49393f262cae",
   "metadata": {},
   "outputs": [
    {
     "data": {
      "text/plain": [
       "(2.8+0j)"
      ]
     },
     "execution_count": 25,
     "metadata": {},
     "output_type": "execute_result"
    }
   ],
   "source": [
    "a = 2.8\n",
    "b = complex(a)\n",
    "b\n",
    "#1. flaot value can be converted into all other datatypes like str, complex, int"
   ]
  },
  {
   "cell_type": "markdown",
   "id": "55880f8c-f7f7-455b-b8ff-94f2cb2fc589",
   "metadata": {},
   "source": [
    "### string "
   ]
  },
  {
   "cell_type": "code",
   "execution_count": 27,
   "id": "241587cb-acb4-4eb2-a988-77a8107a59bf",
   "metadata": {},
   "outputs": [
    {
     "ename": "ValueError",
     "evalue": "invalid literal for int() with base 10: 'hi'",
     "output_type": "error",
     "traceback": [
      "\u001b[1;31m---------------------------------------------------------------------------\u001b[0m",
      "\u001b[1;31mValueError\u001b[0m                                Traceback (most recent call last)",
      "Cell \u001b[1;32mIn[27], line 2\u001b[0m\n\u001b[0;32m      1\u001b[0m a \u001b[38;5;241m=\u001b[39m \u001b[38;5;124m\"\u001b[39m\u001b[38;5;124mhi\u001b[39m\u001b[38;5;124m\"\u001b[39m\n\u001b[1;32m----> 2\u001b[0m b \u001b[38;5;241m=\u001b[39m \u001b[38;5;28mint\u001b[39m(a)\n\u001b[0;32m      3\u001b[0m b\n",
      "\u001b[1;31mValueError\u001b[0m: invalid literal for int() with base 10: 'hi'"
     ]
    }
   ],
   "source": [
    "a = \"hi\"\n",
    "b = int(a)\n",
    "b"
   ]
  },
  {
   "cell_type": "code",
   "execution_count": 28,
   "id": "e854111e-4646-422c-9c3d-cd9a4299cd43",
   "metadata": {},
   "outputs": [
    {
     "ename": "ValueError",
     "evalue": "could not convert string to float: 'hi'",
     "output_type": "error",
     "traceback": [
      "\u001b[1;31m---------------------------------------------------------------------------\u001b[0m",
      "\u001b[1;31mValueError\u001b[0m                                Traceback (most recent call last)",
      "Cell \u001b[1;32mIn[28], line 2\u001b[0m\n\u001b[0;32m      1\u001b[0m a \u001b[38;5;241m=\u001b[39m \u001b[38;5;124m\"\u001b[39m\u001b[38;5;124mhi\u001b[39m\u001b[38;5;124m\"\u001b[39m\n\u001b[1;32m----> 2\u001b[0m b \u001b[38;5;241m=\u001b[39m \u001b[38;5;28mfloat\u001b[39m(a)\n\u001b[0;32m      3\u001b[0m b\n",
      "\u001b[1;31mValueError\u001b[0m: could not convert string to float: 'hi'"
     ]
    }
   ],
   "source": [
    "a = \"hi\"\n",
    "b = float(a)\n",
    "b"
   ]
  },
  {
   "cell_type": "code",
   "execution_count": 29,
   "id": "c495dbbc-afac-4028-9692-29541eccb130",
   "metadata": {},
   "outputs": [
    {
     "ename": "ValueError",
     "evalue": "complex() arg is a malformed string",
     "output_type": "error",
     "traceback": [
      "\u001b[1;31m---------------------------------------------------------------------------\u001b[0m",
      "\u001b[1;31mValueError\u001b[0m                                Traceback (most recent call last)",
      "Cell \u001b[1;32mIn[29], line 2\u001b[0m\n\u001b[0;32m      1\u001b[0m a \u001b[38;5;241m=\u001b[39m \u001b[38;5;124m\"\u001b[39m\u001b[38;5;124mhi\u001b[39m\u001b[38;5;124m\"\u001b[39m\n\u001b[1;32m----> 2\u001b[0m b \u001b[38;5;241m=\u001b[39m \u001b[38;5;28mcomplex\u001b[39m(a)\n\u001b[0;32m      3\u001b[0m b\n",
      "\u001b[1;31mValueError\u001b[0m: complex() arg is a malformed string"
     ]
    }
   ],
   "source": [
    "a = \"hi\"\n",
    "b = complex(a)\n",
    "b\n",
    "#string values cannot be converted into other datatypes like int, complex, float"
   ]
  },
  {
   "cell_type": "markdown",
   "id": "6904d625-6447-40ed-858e-aea62c974035",
   "metadata": {},
   "source": [
    "### Complex"
   ]
  },
  {
   "cell_type": "code",
   "execution_count": 30,
   "id": "a4f5dd24-8fcb-401c-806e-5e372047cf22",
   "metadata": {},
   "outputs": [
    {
     "data": {
      "text/plain": [
       "'(2+0j)'"
      ]
     },
     "execution_count": 30,
     "metadata": {},
     "output_type": "execute_result"
    }
   ],
   "source": [
    "a = 2+0j\n",
    "b = str(a)\n",
    "b"
   ]
  },
  {
   "cell_type": "code",
   "execution_count": 31,
   "id": "311822a4-a451-4a5c-8b50-943243dd8bef",
   "metadata": {},
   "outputs": [
    {
     "ename": "TypeError",
     "evalue": "int() argument must be a string, a bytes-like object or a real number, not 'complex'",
     "output_type": "error",
     "traceback": [
      "\u001b[1;31m---------------------------------------------------------------------------\u001b[0m",
      "\u001b[1;31mTypeError\u001b[0m                                 Traceback (most recent call last)",
      "Cell \u001b[1;32mIn[31], line 2\u001b[0m\n\u001b[0;32m      1\u001b[0m a \u001b[38;5;241m=\u001b[39m \u001b[38;5;241m2\u001b[39m\u001b[38;5;241m+\u001b[39m\u001b[38;5;241m0\u001b[39mj\n\u001b[1;32m----> 2\u001b[0m b \u001b[38;5;241m=\u001b[39m \u001b[38;5;28mint\u001b[39m(a)\n\u001b[0;32m      3\u001b[0m b\n",
      "\u001b[1;31mTypeError\u001b[0m: int() argument must be a string, a bytes-like object or a real number, not 'complex'"
     ]
    }
   ],
   "source": [
    "a = 2+0j\n",
    "b = int(a)\n",
    "b"
   ]
  },
  {
   "cell_type": "code",
   "execution_count": 33,
   "id": "38f8628c-64ad-483d-b10e-2bac79d2dd4b",
   "metadata": {},
   "outputs": [
    {
     "ename": "TypeError",
     "evalue": "float() argument must be a string or a real number, not 'complex'",
     "output_type": "error",
     "traceback": [
      "\u001b[1;31m---------------------------------------------------------------------------\u001b[0m",
      "\u001b[1;31mTypeError\u001b[0m                                 Traceback (most recent call last)",
      "Cell \u001b[1;32mIn[33], line 2\u001b[0m\n\u001b[0;32m      1\u001b[0m a \u001b[38;5;241m=\u001b[39m \u001b[38;5;241m2\u001b[39m\u001b[38;5;241m+\u001b[39m\u001b[38;5;241m0\u001b[39mj\n\u001b[1;32m----> 2\u001b[0m b \u001b[38;5;241m=\u001b[39m \u001b[38;5;28mfloat\u001b[39m(a)\n\u001b[0;32m      3\u001b[0m b\n",
      "\u001b[1;31mTypeError\u001b[0m: float() argument must be a string or a real number, not 'complex'"
     ]
    }
   ],
   "source": [
    "a = 2+0j\n",
    "b = float(a)\n",
    "b\n",
    "\n",
    "### complex can be converted into str only"
   ]
  },
  {
   "cell_type": "code",
   "execution_count": null,
   "id": "f26c0f7e-2fe4-4b0a-ab61-0a657a81527c",
   "metadata": {},
   "outputs": [],
   "source": []
  }
 ],
 "metadata": {
  "kernelspec": {
   "display_name": "Python 3 (ipykernel)",
   "language": "python",
   "name": "python3"
  },
  "language_info": {
   "codemirror_mode": {
    "name": "ipython",
    "version": 3
   },
   "file_extension": ".py",
   "mimetype": "text/x-python",
   "name": "python",
   "nbconvert_exporter": "python",
   "pygments_lexer": "ipython3",
   "version": "3.12.7"
  }
 },
 "nbformat": 4,
 "nbformat_minor": 5
}
