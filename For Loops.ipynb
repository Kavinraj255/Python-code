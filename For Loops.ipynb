{
 "cells": [
  {
   "cell_type": "markdown",
   "id": "73fc2fd5-b915-4ee8-89a5-10590e7f05c7",
   "metadata": {},
   "source": [
    "### Maximum number"
   ]
  },
  {
   "cell_type": "code",
   "execution_count": 24,
   "id": "6bb32f37-182e-4490-92d8-cea4b15fa035",
   "metadata": {},
   "outputs": [
    {
     "name": "stdout",
     "output_type": "stream",
     "text": [
      "67\n",
      "0\n"
     ]
    }
   ],
   "source": [
    "a = [12,43,45,67,0,1,2,3,4]\n",
    "max_num = a[0]\n",
    "min_num = a[0]\n",
    "\n",
    "for i in a:\n",
    "    if i > max_num:\n",
    "        max_num = i\n",
    "    if i < min_num:\n",
    "        min_num = i\n",
    "print(max_num)\n",
    "print(min_num)\n",
    "\n",
    "\n",
    "\n"
   ]
  },
  {
   "cell_type": "markdown",
   "id": "d57043a6-5f32-414c-9a5a-0df392bfe6f9",
   "metadata": {},
   "source": [
    "### Sorting"
   ]
  },
  {
   "cell_type": "code",
   "execution_count": 44,
   "id": "fa1d6e7a-56b1-4011-97c3-0e7cd8fbd9e7",
   "metadata": {},
   "outputs": [
    {
     "name": "stdout",
     "output_type": "stream",
     "text": [
      "Swap: 90 , 0 [12, 0, 90, 8, 78, 9, 2, 99]\n",
      "Swap: 90 , 8 [12, 0, 8, 90, 78, 9, 2, 99]\n",
      "Swap: 90 , 78 [12, 0, 8, 78, 90, 9, 2, 99]\n",
      "Swap: 90 , 9 [12, 0, 8, 78, 9, 90, 2, 99]\n",
      "Swap: 90 , 2 [12, 0, 8, 78, 9, 2, 90, 99]\n",
      "Swap: 12 , 0 [0, 12, 8, 78, 9, 2, 90, 99]\n",
      "Swap: 12 , 8 [0, 8, 12, 78, 9, 2, 90, 99]\n",
      "Swap: 78 , 9 [0, 8, 12, 9, 78, 2, 90, 99]\n",
      "Swap: 78 , 2 [0, 8, 12, 9, 2, 78, 90, 99]\n",
      "Swap: 12 , 9 [0, 8, 9, 12, 2, 78, 90, 99]\n",
      "Swap: 12 , 2 [0, 8, 9, 2, 12, 78, 90, 99]\n",
      "Swap: 9 , 2 [0, 8, 2, 9, 12, 78, 90, 99]\n",
      "Swap: 8 , 2 [0, 2, 8, 9, 12, 78, 90, 99]\n"
     ]
    }
   ],
   "source": [
    "a = [12,90,0,8,78,9,2,99]\n",
    "for i in range(len(a)):\n",
    "   # print(i)\n",
    "    for j in range(len(a)-1-i):\n",
    "        if a[j]>a[j+1]:\n",
    "            a[j], a[j+1] = a[j+1], a[j]\n",
    "            print(\"Swap:\",a[j+1], \",\",a[j], a)"
   ]
  },
  {
   "cell_type": "code",
   "execution_count": null,
   "id": "0ea8320e-34d1-4fe8-b919-ec1a44c9c383",
   "metadata": {},
   "outputs": [],
   "source": []
  }
 ],
 "metadata": {
  "kernelspec": {
   "display_name": "Python 3 (ipykernel)",
   "language": "python",
   "name": "python3"
  },
  "language_info": {
   "codemirror_mode": {
    "name": "ipython",
    "version": 3
   },
   "file_extension": ".py",
   "mimetype": "text/x-python",
   "name": "python",
   "nbconvert_exporter": "python",
   "pygments_lexer": "ipython3",
   "version": "3.12.7"
  }
 },
 "nbformat": 4,
 "nbformat_minor": 5
}
