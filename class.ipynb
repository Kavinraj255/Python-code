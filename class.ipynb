{
 "cells": [
  {
   "cell_type": "markdown",
   "id": "564b888f-69c6-4db6-83af-929c1f84e252",
   "metadata": {},
   "source": [
    "### CLASS AND OBJECTS"
   ]
  },
  {
   "cell_type": "code",
   "execution_count": 1,
   "id": "78bc7ae4-e4ab-4099-bd6f-551fe0b2549b",
   "metadata": {},
   "outputs": [
    {
     "name": "stdout",
     "output_type": "stream",
     "text": [
      "17\n"
     ]
    }
   ],
   "source": [
    "class myobject():\n",
    "    a = 10\n",
    "    b = 7\n",
    "    c = a+b\n",
    "cal = myobject()\n",
    "print(cal.c)"
   ]
  },
  {
   "cell_type": "code",
   "execution_count": 2,
   "id": "24a9d575-3a3b-40df-b85e-e0c3cd78e07f",
   "metadata": {},
   "outputs": [
    {
     "name": "stdin",
     "output_type": "stream",
     "text": [
      " 12\n",
      " 3\n"
     ]
    },
    {
     "name": "stdout",
     "output_type": "stream",
     "text": [
      "15 9\n"
     ]
    }
   ],
   "source": [
    "def add(a,b):\n",
    "    return a+b\n",
    "def sub(a,b):\n",
    "    return a-b\n",
    "a = int(input())\n",
    "b = int(input())\n",
    "k = add(a,b)\n",
    "k1 = sub(a,b)\n",
    "print(k,k1)"
   ]
  },
  {
   "cell_type": "code",
   "execution_count": 6,
   "id": "4444f7cd-9f83-4d81-8980-c23a6e3a3bc1",
   "metadata": {},
   "outputs": [
    {
     "name": "stdin",
     "output_type": "stream",
     "text": [
      " 12\n",
      " 4\n"
     ]
    },
    {
     "name": "stdout",
     "output_type": "stream",
     "text": [
      "0\n",
      "3.0\n"
     ]
    }
   ],
   "source": [
    "class maths():\n",
    "    def add(self):\n",
    "        return a%b\n",
    "    def sub(self):\n",
    "        return a/b\n",
    "a = int(input())\n",
    "b = int(input())\n",
    "cal = maths()\n",
    "k = cal.add()\n",
    "k1 = cal.sub()\n",
    "print(k)\n",
    "print(k1)"
   ]
  },
  {
   "cell_type": "code",
   "execution_count": null,
   "id": "7c1ca390-2b99-44c9-9e14-f171da100e80",
   "metadata": {},
   "outputs": [
    {
     "name": "stdin",
     "output_type": "stream",
     "text": [
      "Enter number 1:  12\n"
     ]
    }
   ],
   "source": [
    "class Maths:\n",
    "    def __init__(self, a, b, c, d):\n",
    "        self.num1 = a\n",
    "        self.num2 = b\n",
    "        self.num3 = c\n",
    "        self.num4 = d\n",
    "\n",
    "    def add(self):\n",
    "        return self.num1 + self.num2\n",
    "\n",
    "    def sub(self):\n",
    "        return self.num2 - self.num3\n",
    "\n",
    "    def mul(self):\n",
    "        return self.num3 * self.num4\n",
    "\n",
    "    def divide(self):\n",
    "        if self.num4 != 0:\n",
    "            return self.num1 / self.num4\n",
    "        else:\n",
    "            return \"Division by zero error\"\n",
    "\n",
    "\n",
    "\n",
    "n1 = int(input(\"Enter number 1: \"))\n",
    "n2 = int(input(\"Enter number 2: \"))\n",
    "n3 = int(input(\"Enter number 3: \"))\n",
    "n4 = int(input(\"Enter number 4: \"))\n",
    "\n",
    "\n",
    "calc = Maths(n1, n2, n3, n4)\n",
    "\n",
    "\n",
    "print(\"Addition:\", calc.add())\n",
    "print(\"Subtraction:\", calc.sub())\n",
    "print(\"Multiplication:\", calc.mul())\n",
    "print(\"Division:\", calc.divide())\n",
    "\n"
   ]
  },
  {
   "cell_type": "code",
   "execution_count": null,
   "id": "214a3234-5583-423d-92d5-393ab0336c97",
   "metadata": {},
   "outputs": [],
   "source": []
  }
 ],
 "metadata": {
  "kernelspec": {
   "display_name": "Python 3 (ipykernel)",
   "language": "python",
   "name": "python3"
  },
  "language_info": {
   "codemirror_mode": {
    "name": "ipython",
    "version": 3
   },
   "file_extension": ".py",
   "mimetype": "text/x-python",
   "name": "python",
   "nbconvert_exporter": "python",
   "pygments_lexer": "ipython3",
   "version": "3.12.7"
  }
 },
 "nbformat": 4,
 "nbformat_minor": 5
}
