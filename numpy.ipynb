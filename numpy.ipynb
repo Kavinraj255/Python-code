{
 "cells": [
  {
   "cell_type": "code",
   "execution_count": null,
   "id": "a5b7d7ed-804c-4cd1-b246-2eb0c3bb9178",
   "metadata": {},
   "outputs": [],
   "source": [
    "import numpy as n\n",
    "a = n.array(16)\n",
    "print(a.ndim)\n",
    "print(a)"
   ]
  },
  {
   "cell_type": "code",
   "execution_count": null,
   "id": "060d4fa9-dfbb-4010-8d7b-0d609f21bc02",
   "metadata": {},
   "outputs": [],
   "source": [
    "import numpy as n\n",
    "a = n.array([1,2])\n",
    "print(a)\n",
    "print(a.ndim)"
   ]
  },
  {
   "cell_type": "code",
   "execution_count": null,
   "id": "d45147b2-cfa7-4c14-8048-624b03a8da9a",
   "metadata": {},
   "outputs": [],
   "source": [
    "import numpy as n\n",
    "a = n.array([[1,2],[1,2]])\n",
    "print(a)\n",
    "print(a.ndim)"
   ]
  },
  {
   "cell_type": "code",
   "execution_count": null,
   "id": "65d6f8d0-aa54-43b9-8058-eaabde6def27",
   "metadata": {},
   "outputs": [],
   "source": [
    "import numpy as a\n",
    "s= a.array([[[1,2,3],[1,2,3]],[[1,2,3],[1,2,3]]])\n",
    "print(s)\n",
    "print(s.ndim)"
   ]
  },
  {
   "cell_type": "markdown",
   "id": "dcbd9544-1cd7-420c-99a4-e16f1625624b",
   "metadata": {},
   "source": [
    "### Array Indexing"
   ]
  },
  {
   "cell_type": "code",
   "execution_count": null,
   "id": "edec2c84-6086-44b9-82e3-3ad4f5fdfb94",
   "metadata": {},
   "outputs": [],
   "source": [
    "import numpy as a\n",
    "n = a.array([[1,2,3,4,5],[10,11,12,4,5]])\n",
    "print(n)\n",
    "print(n.ndim)\n",
    "print(n[0][4])\n",
    "print(n[1][3])"
   ]
  },
  {
   "cell_type": "code",
   "execution_count": 9,
   "id": "33739501-83e0-4ab8-a5c4-027a59c337e4",
   "metadata": {},
   "outputs": [
    {
     "name": "stdout",
     "output_type": "stream",
     "text": [
      "[[[ 1  2  3  4  5]\n",
      "  [10 11 12  4  5]]\n",
      "\n",
      " [[ 1  2  3  4  9]\n",
      "  [ 4  5  6  7 11]]]\n",
      "3\n",
      "4\n"
     ]
    }
   ],
   "source": [
    "import numpy as a\n",
    "n = a.array([[[1,2,3,4,5],[10,11,12,4,5]],[[1,2,3,4,9],[4,5,6,7,11]]])\n",
    "print(n)\n",
    "print(n.ndim)\n",
    "# print(n[0][3])\n",
    "print(n[1,1,0])"
   ]
  },
  {
   "cell_type": "markdown",
   "id": "64b43559-4483-4e75-9943-bdc869bbb80f",
   "metadata": {},
   "source": [
    "### Array slicing"
   ]
  },
  {
   "cell_type": "code",
   "execution_count": 13,
   "id": "3ed872da-8ae8-4434-9c24-f44ea880af2f",
   "metadata": {},
   "outputs": [
    {
     "name": "stdout",
     "output_type": "stream",
     "text": [
      "[1 2 3 4]\n",
      "[5 4 3 2 1]\n",
      "[1 2]\n",
      "[1]\n"
     ]
    }
   ],
   "source": [
    "import numpy as a\n",
    "n = a.array([1,2,3,4,5])    \n",
    "print(n[0:4])\n",
    "print(n[::-1])\n",
    "print(n[0:2])\n",
    "print(n[0:1])"
   ]
  },
  {
   "cell_type": "code",
   "execution_count": 18,
   "id": "47d007d5-dee0-4170-987a-73b04e6e8a1f",
   "metadata": {},
   "outputs": [
    {
     "name": "stdout",
     "output_type": "stream",
     "text": [
      "[12  4  5]\n"
     ]
    }
   ],
   "source": [
    "import numpy as a\n",
    "n = a.array([[[1,2,3,4,5],[10,11,12,4,5]],[[1,2,3,4,9],[4,5,6,7,11]]])\n",
    "print(n[0,1,2:])"
   ]
  },
  {
   "cell_type": "code",
   "execution_count": 20,
   "id": "3c944b86-c199-4156-ba2f-ae083cb87f3a",
   "metadata": {},
   "outputs": [
    {
     "name": "stdout",
     "output_type": "stream",
     "text": [
      "[4 5]\n"
     ]
    }
   ],
   "source": [
    "import numpy as a\n",
    "n = a.array([[[1,2,3,4,5],[10,11,12,4,5]],[[1,2,3,4,9],[4,5,6,7,11]]])\n",
    "print(n[1,1,:2])"
   ]
  },
  {
   "cell_type": "code",
   "execution_count": null,
   "id": "97a8e95a-aa0b-4e3c-9562-e2fad845c8b1",
   "metadata": {},
   "outputs": [],
   "source": []
  }
 ],
 "metadata": {
  "kernelspec": {
   "display_name": "Python 3 (ipykernel)",
   "language": "python",
   "name": "python3"
  },
  "language_info": {
   "codemirror_mode": {
    "name": "ipython",
    "version": 3
   },
   "file_extension": ".py",
   "mimetype": "text/x-python",
   "name": "python",
   "nbconvert_exporter": "python",
   "pygments_lexer": "ipython3",
   "version": "3.12.7"
  }
 },
 "nbformat": 4,
 "nbformat_minor": 5
}
