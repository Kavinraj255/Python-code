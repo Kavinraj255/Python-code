{
 "cells": [
  {
   "cell_type": "markdown",
   "id": "3b249dbb-a397-40ce-9c54-17759bbf2a83",
   "metadata": {},
   "source": [
    "### Test Programs"
   ]
  },
  {
   "cell_type": "markdown",
   "id": "5d21a3da-b6d2-4709-9f86-9270bddcb62c",
   "metadata": {},
   "source": [
    "### Anagram"
   ]
  },
  {
   "cell_type": "code",
   "execution_count": 9,
   "id": "183bd1cc-6852-4601-8683-45a7cff58347",
   "metadata": {},
   "outputs": [
    {
     "name": "stdin",
     "output_type": "stream",
     "text": [
      " silent\n",
      " LISTENN\n"
     ]
    },
    {
     "name": "stdout",
     "output_type": "stream",
     "text": [
      "Not anagram\n"
     ]
    }
   ],
   "source": [
    "a = input().lower()\n",
    "b = input().lower()\n",
    "if len(a)!= len(b):\n",
    "    print(\"Not anagram\")\n",
    "else:\n",
    "    for i in a:\n",
    "        if i not in b:\n",
    "            print(\"Not anagram\")  \n",
    "            break\n",
    "        else:\n",
    "            print(\"Anagram\")\n",
    "    \n",
    "\n"
   ]
  },
  {
   "cell_type": "markdown",
   "id": "59af2ca5-a518-463b-92f4-5ce397dbd2fb",
   "metadata": {},
   "source": [
    "### Palindrome"
   ]
  },
  {
   "cell_type": "code",
   "execution_count": 11,
   "id": "9075f121-f7ce-46c2-8fb1-b8a1808fa808",
   "metadata": {},
   "outputs": [
    {
     "name": "stdin",
     "output_type": "stream",
     "text": [
      " madam\n"
     ]
    },
    {
     "name": "stdout",
     "output_type": "stream",
     "text": [
      "Its a plaindrome\n"
     ]
    }
   ],
   "source": [
    "a = input()\n",
    "b = \"\"\n",
    "for i in a:\n",
    "    b = i+b\n",
    "if a == b:\n",
    "    print(\"Its a palindrome\")\n",
    "else:\n",
    "    print(\"Its not a palindrome\")"
   ]
  },
  {
   "cell_type": "markdown",
   "id": "33063c76-7582-4a65-8c83-9c9b27a66ec8",
   "metadata": {},
   "source": [
    "### Prime number"
   ]
  },
  {
   "cell_type": "code",
   "execution_count": 23,
   "id": "cd1de018-ca89-4e41-a5e5-bc3b6ffd70cf",
   "metadata": {},
   "outputs": [
    {
     "name": "stdin",
     "output_type": "stream",
     "text": [
      "Enter the number: 1\n"
     ]
    },
    {
     "name": "stdout",
     "output_type": "stream",
     "text": [
      "Not prime\n"
     ]
    }
   ],
   "source": [
    "a = int(input(\"Enter the number:\"))\n",
    "if a<2:\n",
    "    print(\"Not prime\")\n",
    "for i in range(2, int(a**0.5)+1):\n",
    "    if a%i==0:\n",
    "        print(\"Not prime\")\n",
    "        break\n",
    "    else:\n",
    "        print(\"prime\")"
   ]
  },
  {
   "cell_type": "markdown",
   "id": "a6a82ae3-3e2f-4b69-944c-f74c976592f8",
   "metadata": {},
   "source": [
    "### Fibanocci Numbers"
   ]
  },
  {
   "cell_type": "code",
   "execution_count": 33,
   "id": "ddfa4470-2476-41e6-85b3-f5c30a6b7f2d",
   "metadata": {},
   "outputs": [
    {
     "name": "stdin",
     "output_type": "stream",
     "text": [
      " 10\n"
     ]
    },
    {
     "name": "stdout",
     "output_type": "stream",
     "text": [
      "0\n",
      "1\n",
      "1\n",
      "2\n",
      "3\n",
      "5\n",
      "8\n",
      "13\n",
      "21\n",
      "34\n"
     ]
    }
   ],
   "source": [
    "n = int(input())\n",
    "a = 0\n",
    "b = 1\n",
    "print(a)\n",
    "print(b)\n",
    "for i in range(2, n):\n",
    "    c = a+b\n",
    "    a=b\n",
    "    b=c\n",
    "    print(c)"
   ]
  },
  {
   "cell_type": "code",
   "execution_count": null,
   "id": "18f067c8-28c8-40bb-b4bf-e3eb1848662e",
   "metadata": {},
   "outputs": [],
   "source": []
  }
 ],
 "metadata": {
  "kernelspec": {
   "display_name": "Python 3 (ipykernel)",
   "language": "python",
   "name": "python3"
  },
  "language_info": {
   "codemirror_mode": {
    "name": "ipython",
    "version": 3
   },
   "file_extension": ".py",
   "mimetype": "text/x-python",
   "name": "python",
   "nbconvert_exporter": "python",
   "pygments_lexer": "ipython3",
   "version": "3.12.7"
  }
 },
 "nbformat": 4,
 "nbformat_minor": 5
}
