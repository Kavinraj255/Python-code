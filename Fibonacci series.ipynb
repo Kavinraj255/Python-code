{
 "cells": [
  {
   "cell_type": "markdown",
   "id": "dbcda3e2-4df2-47ad-80f1-28224be2769c",
   "metadata": {},
   "source": [
    "### Fibanocci series"
   ]
  },
  {
   "cell_type": "code",
   "execution_count": 5,
   "id": "53b6f9f8-82f3-4a8a-b364-b2d006013ded",
   "metadata": {},
   "outputs": [
    {
     "name": "stdin",
     "output_type": "stream",
     "text": [
      " 5\n"
     ]
    },
    {
     "name": "stdout",
     "output_type": "stream",
     "text": [
      "0 1 1 2 3 5 "
     ]
    }
   ],
   "source": [
    "a = int(input())\n",
    "b = 0\n",
    "c = 1\n",
    "\n",
    "while b<=a:\n",
    "    print(b,end = \" \")\n",
    "    b, c  = c, b + c"
   ]
  },
  {
   "cell_type": "code",
   "execution_count": 10,
   "id": "0bab8b19-7fbc-4d75-881d-3412d9c782a3",
   "metadata": {},
   "outputs": [
    {
     "name": "stdin",
     "output_type": "stream",
     "text": [
      " 5\n"
     ]
    },
    {
     "name": "stdout",
     "output_type": "stream",
     "text": [
      "0 1 1 2 3 5 None\n"
     ]
    }
   ],
   "source": [
    "def fibanocci_series(max_val):\n",
    "    a ,b = 0, 1\n",
    "    while(a<=max_val):\n",
    "        print(a, end = \" \")\n",
    "        a,b = b, a + b\n",
    "max_val = int(input())\n",
    "k = fibanocci_series(max_val)\n",
    "print(k)"
   ]
  },
  {
   "cell_type": "code",
   "execution_count": null,
   "id": "7c286f60-6f71-44fe-8c35-b46c0796049b",
   "metadata": {},
   "outputs": [],
   "source": []
  }
 ],
 "metadata": {
  "kernelspec": {
   "display_name": "Python 3 (ipykernel)",
   "language": "python",
   "name": "python3"
  },
  "language_info": {
   "codemirror_mode": {
    "name": "ipython",
    "version": 3
   },
   "file_extension": ".py",
   "mimetype": "text/x-python",
   "name": "python",
   "nbconvert_exporter": "python",
   "pygments_lexer": "ipython3",
   "version": "3.12.7"
  }
 },
 "nbformat": 4,
 "nbformat_minor": 5
}
