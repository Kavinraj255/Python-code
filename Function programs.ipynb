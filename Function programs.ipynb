{
 "cells": [
  {
   "cell_type": "markdown",
   "id": "ed7ad9eb-3ff6-47e7-b347-ac1229c6102f",
   "metadata": {},
   "source": [
    "# Anagram"
   ]
  },
  {
   "cell_type": "code",
   "execution_count": 8,
   "id": "923f4e30-e42e-4537-bf90-7eefa6092762",
   "metadata": {},
   "outputs": [
    {
     "name": "stdin",
     "output_type": "stream",
     "text": [
      " silent\n",
      " lisent\n"
     ]
    },
    {
     "name": "stdout",
     "output_type": "stream",
     "text": [
      "True\n"
     ]
    }
   ],
   "source": [
    "def is_anagram(a,b):\n",
    "    a = a.replace(\" \",\"\").lower()\n",
    "    b = b.replace(\" \",\"\").lower()\n",
    "    \n",
    "    return sorted(a)== sorted(b)\n",
    "    \n",
    "a = input()\n",
    "b = input()\n",
    "\n",
    "print(is_anagram(a, b))"
   ]
  },
  {
   "cell_type": "markdown",
   "id": "2c1ddb2d-ce26-4a53-a07f-c86eeba0e15b",
   "metadata": {},
   "source": [
    "# palindrome"
   ]
  },
  {
   "cell_type": "code",
   "execution_count": 12,
   "id": "c5fa550d-28ee-4975-a4be-beb477963f9c",
   "metadata": {},
   "outputs": [
    {
     "name": "stdin",
     "output_type": "stream",
     "text": [
      " madam\n"
     ]
    },
    {
     "name": "stdout",
     "output_type": "stream",
     "text": [
      "True\n"
     ]
    }
   ],
   "source": [
    "def is_palindrome(a):\n",
    "    a = a.replace(\" \",\"\").lower()\n",
    "    b = \"\"\n",
    "\n",
    "    for i in a:\n",
    "        b = i+b\n",
    "    return a == b\n",
    "\n",
    "a = input()\n",
    "print(is_palindrome(a))\n",
    "        "
   ]
  },
  {
   "cell_type": "markdown",
   "id": "623e5f7a-8e15-4d73-9462-c4a77818ad14",
   "metadata": {},
   "source": [
    "# Maximum and  Minimum number"
   ]
  },
  {
   "cell_type": "code",
   "execution_count": 21,
   "id": "449c16a8-0ad3-446d-b458-c1e0088eec79",
   "metadata": {},
   "outputs": [
    {
     "name": "stdin",
     "output_type": "stream",
     "text": [
      "Enter numbers separated by space:  10 20 30 40 50\n",
      "Enter number to check:  50\n"
     ]
    },
    {
     "name": "stdout",
     "output_type": "stream",
     "text": [
      "True\n"
     ]
    }
   ],
   "source": [
    "def is_maxmin(lst, a):\n",
    "    maximum = max(lst)\n",
    "    minimum = min(lst)\n",
    "    return a == maximum or a == minimum\n",
    "\n",
    "lst = [int(x) for x in input(\"Enter numbers separated by space: \").split()]\n",
    "a = int(input(\"Enter number to check: \"))\n",
    "\n",
    "print(is_maxmin(lst, a))\n",
    "\n"
   ]
  },
  {
   "cell_type": "markdown",
   "id": "c79f0f26-1f94-4435-89fb-7dddc99e5eed",
   "metadata": {},
   "source": [
    "##Ascending and Descending order"
   ]
  },
  {
   "cell_type": "code",
   "execution_count": 25,
   "id": "ea545f22-9a64-4604-90ba-cbd4ca2bacae",
   "metadata": {},
   "outputs": [
    {
     "name": "stdout",
     "output_type": "stream",
     "text": [
      "[5, 12, 29, 34, 66]\n"
     ]
    }
   ],
   "source": [
    "def is_ascending(a):\n",
    "    for i in range(len(a)):\n",
    "        for j in range(len(a)-1):\n",
    "            if a[j] > a[j+1]:\n",
    "                a[j],a[j+1] = a[j+1],a[j]\n",
    "    return a\n",
    "\n",
    "a = [34, 12, 5, 66, 29]\n",
    "\n",
    "print(is_ascending(a))"
   ]
  },
  {
   "cell_type": "markdown",
   "id": "38141c5c-f837-4672-bf8d-e67d131da7e9",
   "metadata": {},
   "source": [
    "### Remove duplicates"
   ]
  },
  {
   "cell_type": "code",
   "execution_count": 7,
   "id": "c6d10271-55c2-479f-9829-f3365c81b9e6",
   "metadata": {},
   "outputs": [
    {
     "name": "stdout",
     "output_type": "stream",
     "text": [
      "[1, 2, 3, 4, 5]\n"
     ]
    }
   ],
   "source": [
    "def remove_duplicates(a):\n",
    "    b = []\n",
    "    for i in a:\n",
    "        if i not in b:\n",
    "            b.append(i)\n",
    "    return b\n",
    "a = [1,2,3,3,4,5,5]\n",
    "print(remove_duplicates(a))\n",
    "            \n",
    "            "
   ]
  },
  {
   "cell_type": "markdown",
   "id": "5da0c1c6-2f3b-41c2-b458-4b3e7158a673",
   "metadata": {},
   "source": [
    "### Odd or Even"
   ]
  },
  {
   "cell_type": "code",
   "execution_count": 12,
   "id": "607e8de5-a54d-4852-8302-954576906b7b",
   "metadata": {},
   "outputs": [
    {
     "name": "stdin",
     "output_type": "stream",
     "text": [
      " 12\n"
     ]
    },
    {
     "name": "stdout",
     "output_type": "stream",
     "text": [
      "Even\n"
     ]
    }
   ],
   "source": [
    "def odd_even(a):\n",
    "    if a%2 ==0:\n",
    "        return \"Even\"\n",
    "    else:\n",
    "        return \"Odd\"\n",
    "a = int(input())\n",
    "print(odd_even(a))"
   ]
  },
  {
   "cell_type": "markdown",
   "id": "b74d4bc5-719a-4a79-8598-0532dd2b99fd",
   "metadata": {},
   "source": [
    "### Vowels"
   ]
  },
  {
   "cell_type": "code",
   "execution_count": 27,
   "id": "19094e78-82e6-4ef8-8a06-fe65c9d92fc7",
   "metadata": {},
   "outputs": [
    {
     "name": "stdout",
     "output_type": "stream",
     "text": [
      "vowels 1\n"
     ]
    }
   ],
   "source": [
    "def vowels(a):\n",
    "    b = \"aeiouAEIOU\"\n",
    "    count = 0\n",
    "    for i in a:\n",
    "        if i in b:\n",
    "            count+=1\n",
    "            \n",
    "    return count\n",
    "a = \"pyhton\"\n",
    "print(\"vowels\", vowels(a))"
   ]
  },
  {
   "cell_type": "markdown",
   "id": "ead7cfb4-ff36-4975-ba07-a4bfc98b8ac5",
   "metadata": {},
   "source": [
    "### Factorial Number"
   ]
  },
  {
   "cell_type": "code",
   "execution_count": 31,
   "id": "4e32e660-905e-4861-b9ff-4a12f8a2ab85",
   "metadata": {},
   "outputs": [
    {
     "name": "stdin",
     "output_type": "stream",
     "text": [
      " 5\n"
     ]
    },
    {
     "name": "stdout",
     "output_type": "stream",
     "text": [
      "Factorial: 120\n"
     ]
    }
   ],
   "source": [
    "def Factorial(a):\n",
    "    fact = 1\n",
    "    for i in range(1, a+1):\n",
    "        fact= fact*i\n",
    "    return fact\n",
    "a = int(input())\n",
    "print(\"Factorial:\",Factorial(a))"
   ]
  },
  {
   "cell_type": "markdown",
   "id": "393ae267-6d7a-4d8d-a114-3157490e9b05",
   "metadata": {},
   "source": [
    "### prime number"
   ]
  },
  {
   "cell_type": "code",
   "execution_count": 33,
   "id": "3eacb598-df5a-4ad6-abd8-6d3eb2d3c1e0",
   "metadata": {},
   "outputs": [
    {
     "name": "stdin",
     "output_type": "stream",
     "text": [
      " 14\n"
     ]
    },
    {
     "name": "stdout",
     "output_type": "stream",
     "text": [
      "not prime\n"
     ]
    }
   ],
   "source": [
    "def primenumber(a):\n",
    "    for i in range(2, int(a**0.5)+1):\n",
    "        if a%i==0:\n",
    "            return \"not prime\"\n",
    "        else:\n",
    "            return \"prime\"\n",
    "a = int(input())\n",
    "print(primenumber(a))"
   ]
  },
  {
   "cell_type": "markdown",
   "id": "c9f854b7-a5e9-4992-83b5-47db58def784",
   "metadata": {},
   "source": [
    "### Reverse string"
   ]
  },
  {
   "cell_type": "code",
   "execution_count": null,
   "id": "08428fc9-8d36-43bd-82b2-224b98de32e5",
   "metadata": {},
   "outputs": [],
   "source": [
    "def reverse_string():\n",
    "    b = \"\"\n",
    "    for i in "
   ]
  }
 ],
 "metadata": {
  "kernelspec": {
   "display_name": "Python 3 (ipykernel)",
   "language": "python",
   "name": "python3"
  },
  "language_info": {
   "codemirror_mode": {
    "name": "ipython",
    "version": 3
   },
   "file_extension": ".py",
   "mimetype": "text/x-python",
   "name": "python",
   "nbconvert_exporter": "python",
   "pygments_lexer": "ipython3",
   "version": "3.12.7"
  }
 },
 "nbformat": 4,
 "nbformat_minor": 5
}
