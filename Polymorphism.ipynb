{
 "cells": [
  {
   "cell_type": "markdown",
   "id": "cec27ee9-f1d1-44c8-9061-fb64bb68a77f",
   "metadata": {},
   "source": [
    "### Polymorphism"
   ]
  },
  {
   "cell_type": "code",
   "execution_count": 3,
   "id": "a5d9cfba-41db-425c-a448-0127ea06c3dd",
   "metadata": {},
   "outputs": [
    {
     "data": {
      "text/plain": [
       "'25'"
      ]
     },
     "execution_count": 3,
     "metadata": {},
     "output_type": "execute_result"
    }
   ],
   "source": [
    "class college:\n",
    "    def __init__(self,a,b):\n",
    "        self.name = a\n",
    "        self.age = b\n",
    "    def student(self):\n",
    "        print(\"I am ECE student\")\n",
    "class dept(college):\n",
    "    def student(self):\n",
    "        return f\"{self.name}\"\n",
    "    def student(self):\n",
    "        return f\"{self.age}\"\n",
    "    def friend(self):\n",
    "        print(\"I am passed ount in 2022\")\n",
    "p1 = dept(\"kavin\", 25)\n",
    "p1.student()"
   ]
  },
  {
   "cell_type": "code",
   "execution_count": 6,
   "id": "4bec02ed-c656-4493-a308-f90d7629ccca",
   "metadata": {},
   "outputs": [
    {
     "name": "stdout",
     "output_type": "stream",
     "text": [
      "Woof\n"
     ]
    }
   ],
   "source": [
    "class Animal:\n",
    "    def cat(self):\n",
    "        print(\"Hello\")\n",
    "    def sound(self):\n",
    "        print(\"Meow\")\n",
    "class Dog(Animal):\n",
    "    def sound(self):\n",
    "        print(\"Woof\")\n",
    "p1 = Dog()\n",
    "p1.sound()"
   ]
  },
  {
   "cell_type": "code",
   "execution_count": null,
   "id": "fb61b2c9-c5e9-4b9e-a8d8-daf35e1ef87a",
   "metadata": {},
   "outputs": [],
   "source": []
  }
 ],
 "metadata": {
  "kernelspec": {
   "display_name": "Python 3 (ipykernel)",
   "language": "python",
   "name": "python3"
  },
  "language_info": {
   "codemirror_mode": {
    "name": "ipython",
    "version": 3
   },
   "file_extension": ".py",
   "mimetype": "text/x-python",
   "name": "python",
   "nbconvert_exporter": "python",
   "pygments_lexer": "ipython3",
   "version": "3.12.7"
  }
 },
 "nbformat": 4,
 "nbformat_minor": 5
}
