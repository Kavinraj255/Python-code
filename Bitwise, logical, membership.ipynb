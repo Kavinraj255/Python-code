{
 "cells": [
  {
   "cell_type": "markdown",
   "id": "c33f7b68-6106-487c-8b02-6561ea8979da",
   "metadata": {},
   "source": [
    "### Logical Operator\n",
    "### AND\n",
    "### OR \n",
    "### NOT"
   ]
  },
  {
   "cell_type": "markdown",
   "id": "51a6372c-6fe1-4800-a7e2-25d01fb387f4",
   "metadata": {},
   "source": [
    "### AND"
   ]
  },
  {
   "cell_type": "code",
   "execution_count": 2,
   "id": "42b277d1-f2ee-40f2-972a-f389c0ef8c3e",
   "metadata": {},
   "outputs": [
    {
     "data": {
      "text/plain": [
       "False"
      ]
     },
     "execution_count": 2,
     "metadata": {},
     "output_type": "execute_result"
    }
   ],
   "source": [
    "a = 3\n",
    "b = 2\n",
    "a>5 and b>7\n"
   ]
  },
  {
   "cell_type": "code",
   "execution_count": 3,
   "id": "48c5fc87-fffe-4195-b136-4a93a8e557aa",
   "metadata": {},
   "outputs": [
    {
     "data": {
      "text/plain": [
       "False"
      ]
     },
     "execution_count": 3,
     "metadata": {},
     "output_type": "execute_result"
    }
   ],
   "source": [
    "a==3 and b==5"
   ]
  },
  {
   "cell_type": "code",
   "execution_count": 4,
   "id": "009d3e02-e981-4678-9e88-de99e63581ee",
   "metadata": {},
   "outputs": [
    {
     "data": {
      "text/plain": [
       "False"
      ]
     },
     "execution_count": 4,
     "metadata": {},
     "output_type": "execute_result"
    }
   ],
   "source": [
    "a<3 and b<1"
   ]
  },
  {
   "cell_type": "code",
   "execution_count": 5,
   "id": "6d115329-18c5-4d4e-8eb5-416e63ac32e3",
   "metadata": {},
   "outputs": [
    {
     "data": {
      "text/plain": [
       "True"
      ]
     },
     "execution_count": 5,
     "metadata": {},
     "output_type": "execute_result"
    }
   ],
   "source": [
    "a==3 or b==10\n"
   ]
  },
  {
   "cell_type": "code",
   "execution_count": 6,
   "id": "a0c63780-d2c5-4d0b-ae6f-f907b1343f81",
   "metadata": {},
   "outputs": [
    {
     "data": {
      "text/plain": [
       "True"
      ]
     },
     "execution_count": 6,
     "metadata": {},
     "output_type": "execute_result"
    }
   ],
   "source": [
    "not(a>6 and a==7)"
   ]
  },
  {
   "cell_type": "markdown",
   "id": "1ae72d5b-7760-4df5-90e5-aa555cc2b445",
   "metadata": {},
   "source": [
    "### Membership Operator"
   ]
  },
  {
   "cell_type": "code",
   "execution_count": 11,
   "id": "745a91ff-bc2f-41dd-a33c-cb32256c4d41",
   "metadata": {},
   "outputs": [
    {
     "data": {
      "text/plain": [
       "False"
      ]
     },
     "execution_count": 11,
     "metadata": {},
     "output_type": "execute_result"
    }
   ],
   "source": [
    "a = \"laptop\"\n",
    "b = \"S\"\n",
    "b in a"
   ]
  },
  {
   "cell_type": "code",
   "execution_count": 12,
   "id": "2f99e2c9-7c6d-494a-a7fe-f5c400f100d2",
   "metadata": {},
   "outputs": [
    {
     "data": {
      "text/plain": [
       "True"
      ]
     },
     "execution_count": 12,
     "metadata": {},
     "output_type": "execute_result"
    }
   ],
   "source": [
    "a not in b"
   ]
  },
  {
   "cell_type": "code",
   "execution_count": 13,
   "id": "0c926ed9-4ef3-4182-8908-e02b0fb54a2b",
   "metadata": {},
   "outputs": [
    {
     "data": {
      "text/plain": [
       "True"
      ]
     },
     "execution_count": 13,
     "metadata": {},
     "output_type": "execute_result"
    }
   ],
   "source": [
    "b not in a"
   ]
  },
  {
   "cell_type": "markdown",
   "id": "7a2562c5-cabc-42d0-a63d-c200d590cf84",
   "metadata": {},
   "source": [
    "### Identity Operator"
   ]
  },
  {
   "cell_type": "code",
   "execution_count": 14,
   "id": "594b51bc-1a3d-48e2-b64d-b74f79f4f0f9",
   "metadata": {},
   "outputs": [
    {
     "data": {
      "text/plain": [
       "False"
      ]
     },
     "execution_count": 14,
     "metadata": {},
     "output_type": "execute_result"
    }
   ],
   "source": [
    "a = 12\n",
    "b = 1\n",
    "a is b"
   ]
  },
  {
   "cell_type": "code",
   "execution_count": 15,
   "id": "b551ed3d-53ed-4c87-beaf-042d82443e75",
   "metadata": {},
   "outputs": [
    {
     "data": {
      "text/plain": [
       "True"
      ]
     },
     "execution_count": 15,
     "metadata": {},
     "output_type": "execute_result"
    }
   ],
   "source": [
    "a is not b"
   ]
  },
  {
   "cell_type": "code",
   "execution_count": 16,
   "id": "9248730f-38be-4911-a747-4db1f8c4759a",
   "metadata": {},
   "outputs": [
    {
     "data": {
      "text/plain": [
       "True"
      ]
     },
     "execution_count": 16,
     "metadata": {},
     "output_type": "execute_result"
    }
   ],
   "source": [
    "b is not a"
   ]
  },
  {
   "cell_type": "markdown",
   "id": "9b7086e3-d5a1-4d29-98ed-9bc8586a42de",
   "metadata": {},
   "source": [
    "### Bitwise Operator "
   ]
  },
  {
   "cell_type": "code",
   "execution_count": 17,
   "id": "db158f10-7693-4397-9e59-61353285e101",
   "metadata": {},
   "outputs": [
    {
     "data": {
      "text/plain": [
       "2"
      ]
     },
     "execution_count": 17,
     "metadata": {},
     "output_type": "execute_result"
    }
   ],
   "source": [
    "6&3"
   ]
  },
  {
   "cell_type": "code",
   "execution_count": 18,
   "id": "3e9a322d-0675-43ef-86bb-67b9f63715e2",
   "metadata": {},
   "outputs": [
    {
     "data": {
      "text/plain": [
       "7"
      ]
     },
     "execution_count": 18,
     "metadata": {},
     "output_type": "execute_result"
    }
   ],
   "source": [
    "6 | 7"
   ]
  },
  {
   "cell_type": "code",
   "execution_count": null,
   "id": "41412a6c-7327-4e25-9c25-eb3339c349c5",
   "metadata": {},
   "outputs": [],
   "source": []
  }
 ],
 "metadata": {
  "kernelspec": {
   "display_name": "Python 3 (ipykernel)",
   "language": "python",
   "name": "python3"
  },
  "language_info": {
   "codemirror_mode": {
    "name": "ipython",
    "version": 3
   },
   "file_extension": ".py",
   "mimetype": "text/x-python",
   "name": "python",
   "nbconvert_exporter": "python",
   "pygments_lexer": "ipython3",
   "version": "3.12.7"
  }
 },
 "nbformat": 4,
 "nbformat_minor": 5
}
