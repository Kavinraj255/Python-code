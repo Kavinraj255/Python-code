{
 "cells": [
  {
   "cell_type": "markdown",
   "id": "4cd78084-b724-419d-820b-709d63b7db2b",
   "metadata": {},
   "source": [
    "### Anagram"
   ]
  },
  {
   "cell_type": "code",
   "execution_count": 2,
   "id": "944a7519-2e96-4f67-af4f-952a379f30dc",
   "metadata": {},
   "outputs": [
    {
     "name": "stdin",
     "output_type": "stream",
     "text": [
      " silent\n",
      " listen\n"
     ]
    },
    {
     "name": "stdout",
     "output_type": "stream",
     "text": [
      "Anagram\n"
     ]
    }
   ],
   "source": [
    "a = input().lower()\n",
    "b = input().lower()\n",
    "\n",
    "if len(a)!=len(b):\n",
    "    print(\"Its not an anagram\")\n",
    "else:\n",
    "    for i in a:\n",
    "        if i not in b:\n",
    "            print(\"Its not an anagram\")\n",
    "            break\n",
    "    else:\n",
    "        print(\"Anagram\")"
   ]
  },
  {
   "cell_type": "markdown",
   "id": "664b5788-0a0e-4a1a-a5a8-00b40fb10d1f",
   "metadata": {},
   "source": [
    "### PALINDROME"
   ]
  },
  {
   "cell_type": "code",
   "execution_count": 19,
   "id": "124c9fb1-c151-4bdb-a036-52997778ac19",
   "metadata": {},
   "outputs": [
    {
     "name": "stdin",
     "output_type": "stream",
     "text": [
      " madam\n"
     ]
    },
    {
     "name": "stdout",
     "output_type": "stream",
     "text": [
      "madam is a palindrome\n"
     ]
    }
   ],
   "source": [
    "a = input().lower()\n",
    "b = \"\"\n",
    "for i in a:\n",
    "    b = i+b\n",
    "if a==b:\n",
    "    print(b, \"is a palindrome\")\n",
    "else:\n",
    "    print(b, \"is not a palindrome\")\n",
    "   "
   ]
  },
  {
   "cell_type": "markdown",
   "id": "f7a09119-7302-47ac-8176-8c9593662005",
   "metadata": {},
   "source": [
    "### Maximum numbers and Mininmum numbers"
   ]
  },
  {
   "cell_type": "code",
   "execution_count": 22,
   "id": "2dae1c6d-0c28-410c-9d02-2ce669a93ed6",
   "metadata": {},
   "outputs": [
    {
     "name": "stdout",
     "output_type": "stream",
     "text": [
      "max number: 4000 , Min number: 1\n"
     ]
    }
   ],
   "source": [
    "a = [23,56,89,6,33,12,3,1,100,4000,500,998]\n",
    "Max = a[0]\n",
    "Min = a[0]\n",
    "for i in a:\n",
    "    if i>Max:\n",
    "        Max=i\n",
    "    if i<Min:\n",
    "        Min = i\n",
    "print(\"max number:\", Max,\",\",\"Min number:\", Min) "
   ]
  },
  {
   "cell_type": "markdown",
   "id": "f048f321-2ff8-421d-89b1-5fc10ecc53dc",
   "metadata": {},
   "source": [
    "### Duplicate values"
   ]
  },
  {
   "cell_type": "code",
   "execution_count": 33,
   "id": "b15da768-4733-428e-ac87-7d69231f5ba9",
   "metadata": {},
   "outputs": [
    {
     "name": "stdout",
     "output_type": "stream",
     "text": [
      "[1, 2, 4, 5, 6, 7]\n"
     ]
    }
   ],
   "source": [
    "a = [1,2,4,4,5,6,6,7,7]\n",
    "b = [0] * len(a)\n",
    "index = 0\n",
    "for i in a:\n",
    "    if i not in b[:index]:\n",
    "        b[index] = i\n",
    "        index += 1\n",
    "        \n",
    "b = b[:index]\n",
    "print(b)\n",
    "    \n",
    "        "
   ]
  },
  {
   "cell_type": "markdown",
   "id": "810b9cf2-583e-467f-b50f-62b1bc5d7d02",
   "metadata": {},
   "source": [
    "# odd or even"
   ]
  },
  {
   "cell_type": "code",
   "execution_count": 35,
   "id": "9f99e445-ff96-4646-a1f4-c0e8ffbe9e06",
   "metadata": {},
   "outputs": [
    {
     "name": "stdin",
     "output_type": "stream",
     "text": [
      " -90\n"
     ]
    },
    {
     "name": "stdout",
     "output_type": "stream",
     "text": [
      "-90 is a even number\n"
     ]
    }
   ],
   "source": [
    "a = int(input())\n",
    "\n",
    "if a%2==0:\n",
    "    print(a,\"is a even number\")\n",
    "else:\n",
    "    print(a, \"is an odd number\")"
   ]
  },
  {
   "cell_type": "markdown",
   "id": "fb5a38c5-7d89-43d7-85e4-c41aade65dc9",
   "metadata": {},
   "source": [
    "# count vowles in  string"
   ]
  },
  {
   "cell_type": "code",
   "execution_count": 39,
   "id": "4e692efb-846c-42ee-b2b5-baf0b135e81b",
   "metadata": {},
   "outputs": [
    {
     "name": "stdout",
     "output_type": "stream",
     "text": [
      "4 vowel letters in Python programming\n"
     ]
    }
   ],
   "source": [
    "a = \"Python programming\"\n",
    "b = \"aeiouAEIOU\"\n",
    "count = 0\n",
    "\n",
    "for i in a:\n",
    "    if i in b:\n",
    "        count+=1\n",
    "print(count, \"vowel letters in\", a)"
   ]
  },
  {
   "cell_type": "markdown",
   "id": "03250210-2dbc-4bdc-8794-b7ab162895f6",
   "metadata": {},
   "source": [
    "# Factorial Number"
   ]
  },
  {
   "cell_type": "code",
   "execution_count": 43,
   "id": "ba867205-e406-40b7-a83d-f94e1f44926a",
   "metadata": {},
   "outputs": [
    {
     "name": "stdin",
     "output_type": "stream",
     "text": [
      " 8\n"
     ]
    },
    {
     "name": "stdout",
     "output_type": "stream",
     "text": [
      "40320\n"
     ]
    }
   ],
   "source": [
    "a = int(input())\n",
    "fact = 1\n",
    "if a<0:\n",
    "    print(\"Factorial is not defined for negative values\")\n",
    "elif a == 1:\n",
    "    print(\"Factorial number of 1 is 1\")\n",
    "else:\n",
    "    for i in range(1, a+1):\n",
    "        fact*=i\n",
    "    print(fact)\n",
    "        "
   ]
  },
  {
   "cell_type": "markdown",
   "id": "f8cef1cc-2e38-4517-91f0-437d2d75ceff",
   "metadata": {},
   "source": [
    "# Prime number"
   ]
  },
  {
   "cell_type": "code",
   "execution_count": 46,
   "id": "5528ce8f-5d58-4508-abc5-d5b500bc99fc",
   "metadata": {},
   "outputs": [
    {
     "name": "stdin",
     "output_type": "stream",
     "text": [
      " 13\n"
     ]
    },
    {
     "name": "stdout",
     "output_type": "stream",
     "text": [
      "Its a prime number\n"
     ]
    }
   ],
   "source": [
    "a = int(input())\n",
    "if a<=1:\n",
    "    print(\"Its not a prime number\")\n",
    "for i in range(2, int(a **0.5)+1):\n",
    "    if a%i==0:\n",
    "        print(\"Its not a prime number\")\n",
    "        break\n",
    "else:\n",
    "    print(\"Its a prime number\")"
   ]
  },
  {
   "cell_type": "markdown",
   "id": "d0bf1e4e-a282-4608-89bd-39a4d4e1087d",
   "metadata": {},
   "source": [
    "# Reverse String"
   ]
  },
  {
   "cell_type": "code",
   "execution_count": 48,
   "id": "de766c81-a7a6-42d5-8099-fa801ef0121f",
   "metadata": {},
   "outputs": [
    {
     "name": "stdin",
     "output_type": "stream",
     "text": [
      " helloworld\n"
     ]
    },
    {
     "name": "stdout",
     "output_type": "stream",
     "text": [
      "Reverse string: dlrowolleh\n"
     ]
    }
   ],
   "source": [
    "a = input()\n",
    "b = \"\"\n",
    "for i in a:\n",
    "    b = i+b\n",
    "print(\"Reverse string:\",b)"
   ]
  },
  {
   "cell_type": "markdown",
   "id": "923eb22b-75b4-4ec8-979f-88837d851cc7",
   "metadata": {},
   "source": [
    "# Ascending order"
   ]
  },
  {
   "cell_type": "code",
   "execution_count": 50,
   "id": "c82455e6-7a00-4e98-8568-555446f1357a",
   "metadata": {},
   "outputs": [
    {
     "name": "stdout",
     "output_type": "stream",
     "text": [
      "[2, 6, 12, 36, 40, 500.34]\n"
     ]
    }
   ],
   "source": [
    "a = [12,500.34,36,2,40,6,]\n",
    "\n",
    "for i in range(len(a)):\n",
    "    for j in range(len(a)-1):\n",
    "        if a[j]>a[j+1]:\n",
    "            a[j],a[j+1] = a[j+1],a[j]\n",
    "print(a)\n"
   ]
  },
  {
   "cell_type": "markdown",
   "id": "0a7fb51d-7f71-4c1e-ac89-325447852aeb",
   "metadata": {},
   "source": [
    "# Descending order"
   ]
  },
  {
   "cell_type": "code",
   "execution_count": 51,
   "id": "c79072bd-defd-407c-8af9-d4c205c144a2",
   "metadata": {},
   "outputs": [
    {
     "name": "stdout",
     "output_type": "stream",
     "text": [
      "[500.34, 40, 36, 12, 6, 2]\n"
     ]
    }
   ],
   "source": [
    "a = [12,500.34,36,2,40,6,]\n",
    "\n",
    "for k in range(len(a)):\n",
    "    for l in range(len(a)-1):\n",
    "        if a[l]<a[l+1]:\n",
    "            a[l],a[l+1] = a[l+1],a[l]\n",
    "print(a)\n",
    "        "
   ]
  },
  {
   "cell_type": "code",
   "execution_count": 53,
   "id": "71685da8-0a22-4158-8f2b-37571e00aec7",
   "metadata": {},
   "outputs": [
    {
     "name": "stdout",
     "output_type": "stream",
     "text": [
      "[12, 500.34, 36, 2, 40, 6]\n"
     ]
    }
   ],
   "source": [
    "a = [12,500.34,36,2,40,6,]\n",
    "b = a.copy()\n",
    "print(b)"
   ]
  },
  {
   "cell_type": "code",
   "execution_count": null,
   "id": "3e7ee225-036a-4ac5-925b-54a0d347bc1c",
   "metadata": {},
   "outputs": [],
   "source": []
  }
 ],
 "metadata": {
  "kernelspec": {
   "display_name": "Python 3 (ipykernel)",
   "language": "python",
   "name": "python3"
  },
  "language_info": {
   "codemirror_mode": {
    "name": "ipython",
    "version": 3
   },
   "file_extension": ".py",
   "mimetype": "text/x-python",
   "name": "python",
   "nbconvert_exporter": "python",
   "pygments_lexer": "ipython3",
   "version": "3.12.7"
  }
 },
 "nbformat": 4,
 "nbformat_minor": 5
}
