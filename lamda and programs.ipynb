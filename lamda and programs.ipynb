{
 "cells": [
  {
   "cell_type": "code",
   "execution_count": 1,
   "id": "8dcb47fd-0bc7-4860-a234-5d088e685c9e",
   "metadata": {},
   "outputs": [
    {
     "data": {
      "text/plain": [
       "15"
      ]
     },
     "execution_count": 1,
     "metadata": {},
     "output_type": "execute_result"
    }
   ],
   "source": [
    "num1 = lambda a:a+10\n",
    "num1(5)"
   ]
  },
  {
   "cell_type": "code",
   "execution_count": 3,
   "id": "100223f4-c924-46a1-9f28-5326ccadcfc5",
   "metadata": {},
   "outputs": [
    {
     "data": {
      "text/plain": [
       "'even'"
      ]
     },
     "execution_count": 3,
     "metadata": {},
     "output_type": "execute_result"
    }
   ],
   "source": [
    "a = lambda a: \"even\" if a%2==0 else \"odd\"\n",
    "a(10)"
   ]
  },
  {
   "cell_type": "code",
   "execution_count": 4,
   "id": "641396a7-476f-407f-a819-371e8ca4753f",
   "metadata": {},
   "outputs": [
    {
     "name": "stdout",
     "output_type": "stream",
     "text": [
      "********\n"
     ]
    }
   ],
   "source": [
    "def maskpassword(password):\n",
    "    return '*'*len(password)\n",
    "a = \"mysecret\"\n",
    "print(maskpassword(a))"
   ]
  },
  {
   "cell_type": "code",
   "execution_count": 8,
   "id": "6b1b62b4-b3ab-4198-b3f7-c815252a7e22",
   "metadata": {},
   "outputs": [
    {
     "name": "stdin",
     "output_type": "stream",
     "text": [
      " 123\n"
     ]
    },
    {
     "name": "stdout",
     "output_type": "stream",
     "text": [
      "6\n"
     ]
    }
   ],
   "source": [
    "a = int(input())\n",
    "sum = 0\n",
    "for i in range(a):\n",
    "    digit = a%10\n",
    "    sum = sum+digit\n",
    "    a = a//10\n",
    "print(sum)"
   ]
  },
  {
   "cell_type": "code",
   "execution_count": null,
   "id": "cb1297d1-2b9d-4dea-b853-c5eb5bb98448",
   "metadata": {},
   "outputs": [],
   "source": []
  }
 ],
 "metadata": {
  "kernelspec": {
   "display_name": "Python 3 (ipykernel)",
   "language": "python",
   "name": "python3"
  },
  "language_info": {
   "codemirror_mode": {
    "name": "ipython",
    "version": 3
   },
   "file_extension": ".py",
   "mimetype": "text/x-python",
   "name": "python",
   "nbconvert_exporter": "python",
   "pygments_lexer": "ipython3",
   "version": "3.12.7"
  }
 },
 "nbformat": 4,
 "nbformat_minor": 5
}
