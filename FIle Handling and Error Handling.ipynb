{
 "cells": [
  {
   "cell_type": "markdown",
   "id": "f5a4fc19-0daa-4118-85f5-d1fdf6b26895",
   "metadata": {},
   "source": [
    "### Try and Except"
   ]
  },
  {
   "cell_type": "code",
   "execution_count": 16,
   "id": "170c1dac-2837-4b95-abdc-8a04fc4e10b5",
   "metadata": {},
   "outputs": [
    {
     "name": "stdin",
     "output_type": "stream",
     "text": [
      " \n"
     ]
    },
    {
     "ename": "ValueError",
     "evalue": "invalid literal for int() with base 10: ''",
     "output_type": "error",
     "traceback": [
      "\u001b[1;31m---------------------------------------------------------------------------\u001b[0m",
      "\u001b[1;31mValueError\u001b[0m                                Traceback (most recent call last)",
      "Cell \u001b[1;32mIn[16], line 1\u001b[0m\n\u001b[1;32m----> 1\u001b[0m a \u001b[38;5;241m=\u001b[39m \u001b[38;5;28mint\u001b[39m(\u001b[38;5;28minput\u001b[39m())\n\u001b[0;32m      2\u001b[0m b \u001b[38;5;241m=\u001b[39m \u001b[38;5;241m0\u001b[39m\n\u001b[0;32m      3\u001b[0m \u001b[38;5;28mprint\u001b[39m(a\u001b[38;5;241m/\u001b[39mc)\n",
      "\u001b[1;31mValueError\u001b[0m: invalid literal for int() with base 10: ''"
     ]
    }
   ],
   "source": [
    "\n",
    "    a = int(input())\n",
    "    b = 0\n",
    "    print(a/c)\n"
   ]
  },
  {
   "cell_type": "code",
   "execution_count": 3,
   "id": "96924f4b-eb48-41a3-9cad-152bb545cc35",
   "metadata": {},
   "outputs": [
    {
     "name": "stdout",
     "output_type": "stream",
     "text": [
      "ZeroDivisionError\n"
     ]
    }
   ],
   "source": [
    "try:\n",
    "    a = 10\n",
    "    b = 0\n",
    "    print(a/b)\n",
    "except:\n",
    "    print(\"ZeroDivisionError\")"
   ]
  },
  {
   "cell_type": "markdown",
   "id": "dd2ee908-fb75-4e48-9cd7-2bf80b0bcc09",
   "metadata": {},
   "source": [
    "### Name error and ZeroDivisionError"
   ]
  },
  {
   "cell_type": "code",
   "execution_count": 5,
   "id": "ccc39784-347a-4d02-bf3a-200bc3a9349e",
   "metadata": {},
   "outputs": [
    {
     "name": "stdout",
     "output_type": "stream",
     "text": [
      "Name error\n"
     ]
    }
   ],
   "source": [
    "try:\n",
    "    a = 10\n",
    "    b = 0\n",
    "    print(a/c)\n",
    "except NameError:\n",
    "    print(\"Name error\")\n",
    "except ZeroDivisionError:\n",
    "    print(\"ZeroDivisionError\")"
   ]
  },
  {
   "cell_type": "markdown",
   "id": "b66187a1-213d-4148-a29a-24cb66301313",
   "metadata": {},
   "source": [
    "### FINALLY"
   ]
  },
  {
   "cell_type": "code",
   "execution_count": 7,
   "id": "8d1b1630-c5e2-42de-ae56-eeaee64135ed",
   "metadata": {},
   "outputs": [
    {
     "name": "stdin",
     "output_type": "stream",
     "text": [
      " 2\n"
     ]
    },
    {
     "name": "stdout",
     "output_type": "stream",
     "text": [
      "5.0\n",
      "finally\n"
     ]
    }
   ],
   "source": [
    "try:\n",
    "    a = 10\n",
    "    b = int(input())\n",
    "    print(a/b)\n",
    "except NameError:\n",
    "    print(\"Name error\")\n",
    "except ZeroDivisionError:\n",
    "    print(\"ZeroDivisionError\")\n",
    "finally:\n",
    "    print(\"finally\")"
   ]
  },
  {
   "cell_type": "code",
   "execution_count": 9,
   "id": "bd495c92-d942-4a3d-97bb-e822e015abd5",
   "metadata": {},
   "outputs": [
    {
     "name": "stdin",
     "output_type": "stream",
     "text": [
      " 9999999\n"
     ]
    },
    {
     "name": "stdout",
     "output_type": "stream",
     "text": [
      "1.00000010000001e-06\n",
      "finally\n"
     ]
    }
   ],
   "source": [
    "try:\n",
    "    a = 10\n",
    "    b = int(input())\n",
    "    print(a/b)\n",
    "except ValueError:\n",
    "    print(\"Name error\")\n",
    "except ZeroDivisionError:\n",
    "    print(\"ZeroDivisionError\")\n",
    "finally:\n",
    "    print(\"finally\")"
   ]
  },
  {
   "cell_type": "code",
   "execution_count": 24,
   "id": "8ff576a1-415c-4068-bb9d-274ed360dcd3",
   "metadata": {},
   "outputs": [
    {
     "name": "stdout",
     "output_type": "stream",
     "text": [
      "Sample calculator\n",
      "1.Add\n",
      "2.Subract\n",
      "3.Multiply\n",
      "4.Divide\n"
     ]
    },
    {
     "name": "stdin",
     "output_type": "stream",
     "text": [
      "Enter your choice: \n"
     ]
    },
    {
     "name": "stdout",
     "output_type": "stream",
     "text": [
      "Input Error: invalid literal for int() with base 10: ''\n"
     ]
    }
   ],
   "source": [
    "def add(a,b):\n",
    "    return a+b\n",
    "def sub(a,b):\n",
    "    return a-b\n",
    "def multiply(a,b):\n",
    "    return a*b\n",
    "def divide(a,b):\n",
    "    if b!=0:\n",
    "        return a/b\n",
    "    else:\n",
    "        return \"Cannot divide by zero\"\n",
    "print(\"Sample calculator\")\n",
    "print(\"1.Add\")\n",
    "print(\"2.Subract\")\n",
    "print(\"3.Multiply\")\n",
    "print(\"4.Divide\")\n",
    "try:\n",
    "    choice = int(input(\"Enter your choice:\"))\n",
    "    num1 = float(input(\"Enter your number:\"))\n",
    "    num2 = float(input(\"Enter your number:\"))\n",
    "    if choice == 1:\n",
    "        print(\"Result:\",add(num1,num2))\n",
    "    elif choice == 2:\n",
    "        print(\"Result:\",sub(num1,num2))\n",
    "    elif choice == 3:\n",
    "        print(\"Result:\",multiply(num1,num2))\n",
    "    elif choice == 4:\n",
    "        print(\"Result:\",divide(num1,num2))\n",
    "    else:\n",
    "        print(\"Invalid input\")\n",
    "except ValueError as ve:\n",
    "    print(\"Input Error:\", ve)\n",
    "except exception as e:\n",
    "    print(\"Error\",e)\n",
    "\n"
   ]
  },
  {
   "cell_type": "markdown",
   "id": "6aa6307b-801c-444d-ae4d-d4edc88627a6",
   "metadata": {},
   "source": [
    "### FILE HANDLING"
   ]
  },
  {
   "cell_type": "code",
   "execution_count": 36,
   "id": "902e8058-def2-4107-8fa6-83732d4aea99",
   "metadata": {},
   "outputs": [
    {
     "data": {
      "text/plain": [
       "'Welcome to python'"
      ]
     },
     "execution_count": 36,
     "metadata": {},
     "output_type": "execute_result"
    }
   ],
   "source": [
    "f = open(\"Test.txt\", \"r\")\n",
    "f.read()"
   ]
  },
  {
   "cell_type": "code",
   "execution_count": 28,
   "id": "06920a03-0758-4a90-8846-19ffb1a26597",
   "metadata": {},
   "outputs": [
    {
     "data": {
      "text/plain": [
       "'Hello'"
      ]
     },
     "execution_count": 28,
     "metadata": {},
     "output_type": "execute_result"
    }
   ],
   "source": [
    "f = open(\"Test.txt\", \"r\")\n",
    "f.read(5)"
   ]
  },
  {
   "cell_type": "code",
   "execution_count": 30,
   "id": "3b3c81bc-7a5b-462f-85cc-8fe362108cf7",
   "metadata": {},
   "outputs": [],
   "source": [
    "f = open(\"Test.txt\", \"w\")\n",
    "f.write(\"Welcome to python\")\n",
    "f.close()"
   ]
  },
  {
   "cell_type": "code",
   "execution_count": 34,
   "id": "4edc5609-42c8-4c37-bd72-9a6e2d34bc26",
   "metadata": {},
   "outputs": [],
   "source": [
    "f  = open(\"Text.txt\", \"a\")\n",
    "f.write(\"Hello World\")\n",
    "f.close()"
   ]
  },
  {
   "cell_type": "code",
   "execution_count": 37,
   "id": "b05783d8-3586-4e05-ad83-905e023e8ab8",
   "metadata": {},
   "outputs": [
    {
     "data": {
      "text/plain": [
       "'Welcome to python'"
      ]
     },
     "execution_count": 37,
     "metadata": {},
     "output_type": "execute_result"
    }
   ],
   "source": [
    "f = open(\"Test.txt\", \"r\")\n",
    "f.read()"
   ]
  },
  {
   "cell_type": "code",
   "execution_count": 40,
   "id": "54ae8366-03da-4864-b4c2-01e21558c1c4",
   "metadata": {},
   "outputs": [
    {
     "data": {
      "text/plain": [
       "'Date,Region,Product,Quantity,Price\\n2024-06-01,East,Pen,20,1.5\\n2024-06-02,West,Notebook,15,2.5\\n2024-06-03,South,Pencil,30,0.5\\n2024-06-04,North,Marker,10,1.8\\n2024-06-05,East,Notebook,25,2.5\\n2024-06-06,West,Pen,40,1.5\\nprofit is 10%'"
      ]
     },
     "execution_count": 40,
     "metadata": {},
     "output_type": "execute_result"
    }
   ],
   "source": [
    "f = open(r\"C:/Users/Admin/Downloads/SalesData.txt\",\"r\")\n",
    "f.read()"
   ]
  },
  {
   "cell_type": "code",
   "execution_count": 39,
   "id": "edaf0555-348e-4069-a681-6e0438b950ba",
   "metadata": {},
   "outputs": [],
   "source": [
    "f = open(r\"C:/Users/Admin/Downloads/SalesData.txt\",\"a\")\n",
    "f.write(\"profit is 10%\")\n",
    "f.close()"
   ]
  },
  {
   "cell_type": "code",
   "execution_count": 43,
   "id": "4187b3fd-39c3-4083-a3ed-4d016f5a727c",
   "metadata": {},
   "outputs": [
    {
     "data": {
      "text/plain": [
       "'2024-06-01,East,Pen,20,1.5\\n'"
      ]
     },
     "execution_count": 43,
     "metadata": {},
     "output_type": "execute_result"
    }
   ],
   "source": [
    "f = open(r\"C:/Users/Admin/Downloads/SalesData.txt\",\"r\")\n",
    "f.readline()\n",
    "f.readline()"
   ]
  },
  {
   "cell_type": "code",
   "execution_count": null,
   "id": "a913957e-35aa-4344-87cf-11dc9c686c8a",
   "metadata": {},
   "outputs": [],
   "source": []
  }
 ],
 "metadata": {
  "kernelspec": {
   "display_name": "Python 3 (ipykernel)",
   "language": "python",
   "name": "python3"
  },
  "language_info": {
   "codemirror_mode": {
    "name": "ipython",
    "version": 3
   },
   "file_extension": ".py",
   "mimetype": "text/x-python",
   "name": "python",
   "nbconvert_exporter": "python",
   "pygments_lexer": "ipython3",
   "version": "3.12.7"
  }
 },
 "nbformat": 4,
 "nbformat_minor": 5
}
