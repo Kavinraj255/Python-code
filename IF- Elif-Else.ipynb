{
 "cells": [
  {
   "cell_type": "markdown",
   "id": "eae908d9-dce9-4c1d-9181-c5fc6cb1a316",
   "metadata": {},
   "source": [
    "### IF - ELSE Condition"
   ]
  },
  {
   "cell_type": "code",
   "execution_count": 1,
   "id": "1844e49b-4882-4d46-8e60-472ef0f94415",
   "metadata": {},
   "outputs": [
    {
     "name": "stdout",
     "output_type": "stream",
     "text": [
      "45\n"
     ]
    }
   ],
   "source": [
    "a = 23\n",
    "b = 45\n",
    "if a>b:\n",
    "    print(a)\n",
    "else:\n",
    "    print(b)"
   ]
  },
  {
   "cell_type": "code",
   "execution_count": 4,
   "id": "9022a9f4-ae96-4e0c-bb0e-10edb88c6880",
   "metadata": {},
   "outputs": [
    {
     "name": "stdin",
     "output_type": "stream",
     "text": [
      "Enter the mark: 13\n"
     ]
    },
    {
     "name": "stdout",
     "output_type": "stream",
     "text": [
      "Fail\n"
     ]
    }
   ],
   "source": [
    "a = int(input(\"Enter the mark:\"))\n",
    "if a>80 and a<=99:\n",
    "    print(\"Grade A\")\n",
    "elif a>70 and a<=80:\n",
    "    print(\"Grade B\")\n",
    "elif a>50 and a<=70:\n",
    "    print(\"Grade C\")\n",
    "elif a>35 and a<=50:\n",
    "    print (\"Grade D\")\n",
    "else:\n",
    "    print(\"Fail\")\n"
   ]
  },
  {
   "cell_type": "code",
   "execution_count": 5,
   "id": "84ffe4d8-9774-4df9-b02b-0d659a02f046",
   "metadata": {},
   "outputs": [
    {
     "name": "stdin",
     "output_type": "stream",
     "text": [
      " Information\n"
     ]
    },
    {
     "name": "stdout",
     "output_type": "stream",
     "text": [
      "Who are you\n"
     ]
    }
   ],
   "source": [
    "a = input()\n",
    "b = \"in\"\n",
    "if a in b:\n",
    "    print(\"Hi, Hello\")\n",
    "else:\n",
    "    print(\"Who are you\")"
   ]
  },
  {
   "cell_type": "markdown",
   "id": "150b1a41-3d99-438c-b89d-92efab1997b2",
   "metadata": {},
   "source": [
    "### Nested IF"
   ]
  },
  {
   "cell_type": "code",
   "execution_count": 6,
   "id": "6757937d-dba3-44e7-8a58-c98618f466fa",
   "metadata": {},
   "outputs": [
    {
     "name": "stdin",
     "output_type": "stream",
     "text": [
      " kavin\n"
     ]
    }
   ],
   "source": [
    "a = input()\n",
    "b = 23\n",
    "if \"kavin\" in a:\n",
    "    if b > 56:\n",
    "        print(\"Hello\")\n",
    "    else:\n",
    "        print(\"Bye\")"
   ]
  },
  {
   "cell_type": "code",
   "execution_count": null,
   "id": "44cd393a-4149-4670-9bd4-8da4b46b5e01",
   "metadata": {},
   "outputs": [],
   "source": []
  }
 ],
 "metadata": {
  "kernelspec": {
   "display_name": "Python 3 (ipykernel)",
   "language": "python",
   "name": "python3"
  },
  "language_info": {
   "codemirror_mode": {
    "name": "ipython",
    "version": 3
   },
   "file_extension": ".py",
   "mimetype": "text/x-python",
   "name": "python",
   "nbconvert_exporter": "python",
   "pygments_lexer": "ipython3",
   "version": "3.12.7"
  }
 },
 "nbformat": 4,
 "nbformat_minor": 5
}
