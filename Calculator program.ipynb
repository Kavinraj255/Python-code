{
 "cells": [
  {
   "cell_type": "code",
   "execution_count": 7,
   "id": "d8e156e9-3980-4e42-a33b-c8b5fd3f00f1",
   "metadata": {},
   "outputs": [
    {
     "name": "stdout",
     "output_type": "stream",
     "text": [
      "Sample calculator\n",
      "1.Add\n",
      "2.Subract\n",
      "3.Multiply\n",
      "4.Divide\n"
     ]
    },
    {
     "name": "stdin",
     "output_type": "stream",
     "text": [
      "Enter your choice: 1\n",
      "Enter your number: 10\n",
      "Enter your number: 20\n"
     ]
    },
    {
     "name": "stdout",
     "output_type": "stream",
     "text": [
      "Result: 30.0\n"
     ]
    }
   ],
   "source": [
    "def add(a,b):\n",
    "    return a+b\n",
    "def sub(a,b):\n",
    "    return a-b\n",
    "def multiply(a,b):\n",
    "    return a*b\n",
    "def divide(a,b):\n",
    "    if b!=0:\n",
    "        return a/b\n",
    "    else:\n",
    "        return \"Cannot divide by zero\"\n",
    "print(\"Sample calculator\")\n",
    "print(\"1.Add\")\n",
    "print(\"2.Subract\")\n",
    "print(\"3.Multiply\")\n",
    "print(\"4.Divide\")\n",
    "choice = int(input(\"Enter your choice:\"))\n",
    "num1 = float(input(\"Enter your number:\"))\n",
    "num2 = float(input(\"Enter your number:\"))\n",
    "if choice == 1:\n",
    "    print(\"Result:\",add(num1,num2))\n",
    "    if choice == 2:\n",
    "        print(\"Result:\",sub(num1,num2))\n",
    "    if choice == 3:\n",
    "        print(\"Result:\",multiply(num1,num2))\n",
    "    if choice == 4:\n",
    "        print(\"Result:\",divide(num1,num2))\n",
    "else:\n",
    "    print(\"Invalid input\")"
   ]
  },
  {
   "cell_type": "code",
   "execution_count": null,
   "id": "128e1e4f-5399-485f-b8ad-2fcf088ea18a",
   "metadata": {},
   "outputs": [],
   "source": []
  }
 ],
 "metadata": {
  "kernelspec": {
   "display_name": "Python 3 (ipykernel)",
   "language": "python",
   "name": "python3"
  },
  "language_info": {
   "codemirror_mode": {
    "name": "ipython",
    "version": 3
   },
   "file_extension": ".py",
   "mimetype": "text/x-python",
   "name": "python",
   "nbconvert_exporter": "python",
   "pygments_lexer": "ipython3",
   "version": "3.12.7"
  }
 },
 "nbformat": 4,
 "nbformat_minor": 5
}
