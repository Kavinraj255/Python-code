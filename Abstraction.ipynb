{
 "cells": [
  {
   "cell_type": "code",
   "execution_count": 3,
   "id": "0c6ff759-0ccc-471c-9e11-f7dec27b2bbc",
   "metadata": {},
   "outputs": [
    {
     "data": {
      "text/plain": [
       "'kavin'"
      ]
     },
     "execution_count": 3,
     "metadata": {},
     "output_type": "execute_result"
    }
   ],
   "source": [
    "from abc import ABC, abstractmethod\n",
    "class college:\n",
    "    def __init__(self,a,b):\n",
    "        self.name = a\n",
    "        self.age = b\n",
    "class student(college):\n",
    "    def show(self):\n",
    "        return f\"{self.name}\"\n",
    "p1 = student(\"kavin\",25)\n",
    "p1.show()"
   ]
  },
  {
   "cell_type": "code",
   "execution_count": 4,
   "id": "b21a9de5-7268-464a-aea8-16a6fb572688",
   "metadata": {},
   "outputs": [
    {
     "ename": "TypeError",
     "evalue": "animal() takes no arguments",
     "output_type": "error",
     "traceback": [
      "\u001b[1;31m---------------------------------------------------------------------------\u001b[0m",
      "\u001b[1;31mTypeError\u001b[0m                                 Traceback (most recent call last)",
      "Cell \u001b[1;32mIn[4], line 11\u001b[0m\n\u001b[0;32m      9\u001b[0m         \u001b[38;5;28mprint\u001b[39m(\u001b[38;5;28mself\u001b[39m\u001b[38;5;241m.\u001b[39msound)\n\u001b[0;32m     10\u001b[0m         \u001b[38;5;28mprint\u001b[39m(\u001b[38;5;28mself\u001b[39m\u001b[38;5;241m.\u001b[39mlegs)\n\u001b[1;32m---> 11\u001b[0m p1 \u001b[38;5;241m=\u001b[39m animal(\u001b[38;5;124m\"\u001b[39m\u001b[38;5;124mWooof wooof\u001b[39m\u001b[38;5;124m\"\u001b[39m, \u001b[38;5;124m\"\u001b[39m\u001b[38;5;124mdogs has 4 legs\u001b[39m\u001b[38;5;124m\"\u001b[39m)\n\u001b[0;32m     12\u001b[0m p1\u001b[38;5;241m.\u001b[39msound()\n\u001b[0;32m     13\u001b[0m p1\u001b[38;5;241m.\u001b[39mlegs()\n",
      "\u001b[1;31mTypeError\u001b[0m: animal() takes no arguments"
     ]
    }
   ],
   "source": [
    "from abc import ABC, abstractmethod\n",
    "\n",
    "class animal:\n",
    "    def cat(self,a,b):\n",
    "        self.sound = a\n",
    "        self.legs = b\n",
    "    def dog(self):\n",
    "        print(\"Woof\")\n",
    "        print(self.sound)\n",
    "        print(self.legs)\n",
    "p1 = animal(\"Wooof wooof\", \"dogs has 4 legs\")\n",
    "p1.sound()\n",
    "p1.legs()\n",
    "\n"
   ]
  },
  {
   "cell_type": "code",
   "execution_count": null,
   "id": "0dd4f521-3012-421a-a106-fd51bcd94215",
   "metadata": {},
   "outputs": [],
   "source": []
  }
 ],
 "metadata": {
  "kernelspec": {
   "display_name": "Python 3 (ipykernel)",
   "language": "python",
   "name": "python3"
  },
  "language_info": {
   "codemirror_mode": {
    "name": "ipython",
    "version": 3
   },
   "file_extension": ".py",
   "mimetype": "text/x-python",
   "name": "python",
   "nbconvert_exporter": "python",
   "pygments_lexer": "ipython3",
   "version": "3.12.7"
  }
 },
 "nbformat": 4,
 "nbformat_minor": 5
}
