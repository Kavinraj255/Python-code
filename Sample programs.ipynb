{
 "cells": [
  {
   "cell_type": "code",
   "execution_count": 1,
   "id": "c8f62360-93fc-44e9-8ca6-31e4aeed7af5",
   "metadata": {},
   "outputs": [
    {
     "name": "stdout",
     "output_type": "stream",
     "text": [
      "Hello, World!\n"
     ]
    }
   ],
   "source": [
    "    my_string = \"Hello, World!\"\n",
    "    print(my_string)"
   ]
  },
  {
   "cell_type": "code",
   "execution_count": 2,
   "id": "a4291e16-142d-4126-be7f-c7cd05e42260",
   "metadata": {},
   "outputs": [
    {
     "name": "stdout",
     "output_type": "stream",
     "text": [
      "9\n"
     ]
    }
   ],
   "source": [
    "num = [2,7,11,15]\n",
    "print(num[0]+num[1])"
   ]
  },
  {
   "cell_type": "code",
   "execution_count": 9,
   "id": "781900d6-7e6e-4fe0-91d1-283429c1087c",
   "metadata": {},
   "outputs": [
    {
     "name": "stdout",
     "output_type": "stream",
     "text": [
      "121\n"
     ]
    }
   ],
   "source": [
    "a = '121'\n",
    "b = ''\n",
    "for i in a:\n",
    "    b = i+b\n",
    "print(b)"
   ]
  },
  {
   "cell_type": "code",
   "execution_count": 4,
   "id": "9789904a-1dc9-49c7-a736-adcf2a055894",
   "metadata": {},
   "outputs": [
    {
     "name": "stdin",
     "output_type": "stream",
     "text": [
      " silent\n",
      " listen\n"
     ]
    },
    {
     "name": "stdout",
     "output_type": "stream",
     "text": [
      "ANAGRAM\n"
     ]
    }
   ],
   "source": [
    "a = input()\n",
    "b = input()\n",
    "\n",
    "if len(a)!=len(b):\n",
    "    print(\"Not anagram\")\n",
    "for i in a:\n",
    "    if i not in b:\n",
    "        print(\"Not anagram\")\n",
    "        break\n",
    "else:\n",
    "    print(\"ANAGRAM\")"
   ]
  },
  {
   "cell_type": "code",
   "execution_count": 13,
   "id": "6aa1b52f-6687-4bcc-8f15-01cc23b08043",
   "metadata": {},
   "outputs": [
    {
     "name": "stdin",
     "output_type": "stream",
     "text": [
      " 12\n",
      " 12\n"
     ]
    },
    {
     "name": "stdout",
     "output_type": "stream",
     "text": [
      "1\n",
      "1.0\n"
     ]
    }
   ],
   "source": [
    "a = int(input())\n",
    "b = int(input())\n",
    "    \n",
    "print(a//b)\n",
    "print(a/b)"
   ]
  },
  {
   "cell_type": "code",
   "execution_count": 18,
   "id": "a833658e-5041-4eca-98d8-183bc641401e",
   "metadata": {},
   "outputs": [
    {
     "name": "stdin",
     "output_type": "stream",
     "text": [
      " 3\n"
     ]
    },
    {
     "name": "stdout",
     "output_type": "stream",
     "text": [
      "1\n",
      "4\n",
      "9\n"
     ]
    }
   ],
   "source": [
    "\n",
    "    n = int(input())\n",
    "   \n",
    "    for i in range(0,n+):\n",
    "       \n",
    "        print( i*i)"
   ]
  },
  {
   "cell_type": "code",
   "execution_count": null,
   "id": "6fa9e74a-a1eb-44aa-b018-d88986823507",
   "metadata": {},
   "outputs": [],
   "source": []
  }
 ],
 "metadata": {
  "kernelspec": {
   "display_name": "Python 3 (ipykernel)",
   "language": "python",
   "name": "python3"
  },
  "language_info": {
   "codemirror_mode": {
    "name": "ipython",
    "version": 3
   },
   "file_extension": ".py",
   "mimetype": "text/x-python",
   "name": "python",
   "nbconvert_exporter": "python",
   "pygments_lexer": "ipython3",
   "version": "3.12.7"
  }
 },
 "nbformat": 4,
 "nbformat_minor": 5
}
