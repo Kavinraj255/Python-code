{
 "cells": [
  {
   "cell_type": "markdown",
   "id": "788588e2-709b-4203-8bed-7d04568d39be",
   "metadata": {},
   "source": [
    "### LIST FUNCTIONS"
   ]
  },
  {
   "cell_type": "code",
   "execution_count": 3,
   "id": "046f59df-4abd-4564-9149-4c2450cd4eac",
   "metadata": {},
   "outputs": [
    {
     "data": {
      "text/plain": [
       "[1, 22, 3, 44, 55, 6, 4, 1200]"
      ]
     },
     "execution_count": 3,
     "metadata": {},
     "output_type": "execute_result"
    }
   ],
   "source": [
    "l=[1,22,3,44,55,6,11,1200]\n",
    "\n",
    "l[6] = 4\n",
    "l"
   ]
  },
  {
   "cell_type": "code",
   "execution_count": 5,
   "id": "c85ea101-3120-4e54-94ed-0c1875f24278",
   "metadata": {},
   "outputs": [
    {
     "data": {
      "text/plain": [
       "[1, 22, 3, 55, 6, 11, 1200]"
      ]
     },
     "execution_count": 5,
     "metadata": {},
     "output_type": "execute_result"
    }
   ],
   "source": [
    "l=[1,22,3,44,55,6,11,1200]\n",
    "l.remove(44)\n",
    "l"
   ]
  },
  {
   "cell_type": "code",
   "execution_count": 6,
   "id": "c0eb622f-cfbb-4ee8-9aa5-92e75d9f0c7f",
   "metadata": {},
   "outputs": [
    {
     "data": {
      "text/plain": [
       "[1, 22, 3, 44, 55, 6, 11, 1200, 88]"
      ]
     },
     "execution_count": 6,
     "metadata": {},
     "output_type": "execute_result"
    }
   ],
   "source": [
    "l=[1,22,3,44,55,6,11,1200]\n",
    "\n",
    "l.append(88)\n",
    "l"
   ]
  },
  {
   "cell_type": "code",
   "execution_count": 7,
   "id": "fa317123-6009-4735-ab8f-11744488d0b5",
   "metadata": {},
   "outputs": [
    {
     "data": {
      "text/plain": [
       "[1, 22, 44, 55, 6, 11, 1200]"
      ]
     },
     "execution_count": 7,
     "metadata": {},
     "output_type": "execute_result"
    }
   ],
   "source": [
    "l=[1,22,3,44,55,6,11,1200]\n",
    "\n",
    "l.pop(2)\n",
    "l"
   ]
  },
  {
   "cell_type": "code",
   "execution_count": 8,
   "id": "bcb39f64-1313-47a3-bb6e-3c0999b9dcc5",
   "metadata": {},
   "outputs": [
    {
     "data": {
      "text/plain": [
       "[1, 22, 3, 44, 55, 6, 11, 1200, 1, 2, 3, 546]"
      ]
     },
     "execution_count": 8,
     "metadata": {},
     "output_type": "execute_result"
    }
   ],
   "source": [
    "l=[1,22,3,44,55,6,11,1200]\n",
    "m = [1, 2, 3, 546]\n",
    "l.extend(m)\n",
    "l"
   ]
  },
  {
   "cell_type": "markdown",
   "id": "d8e83e8e-2b79-4cff-9e5f-be0cc437ed40",
   "metadata": {},
   "source": [
    "### STRING FUNCTIONS"
   ]
  },
  {
   "cell_type": "code",
   "execution_count": 11,
   "id": "d17f8111-5994-454f-a014-aa356a839e1a",
   "metadata": {},
   "outputs": [
    {
     "data": {
      "text/plain": [
       "'lloWorld'"
      ]
     },
     "execution_count": 11,
     "metadata": {},
     "output_type": "execute_result"
    }
   ],
   "source": [
    "a = \"HelloWorld\"\n",
    "a[2:]\n"
   ]
  },
  {
   "cell_type": "code",
   "execution_count": 14,
   "id": "c6aea9dc-1e27-4958-9b2b-553b4f4767f7",
   "metadata": {},
   "outputs": [
    {
     "name": "stdout",
     "output_type": "stream",
     "text": [
      "HelloWoPYTHONrld\n"
     ]
    }
   ],
   "source": [
    "a = \"HelloWorld\"\n",
    "b = a[:7]+\"PYTHON\"+a[7:]\n",
    "print(b)"
   ]
  },
  {
   "cell_type": "code",
   "execution_count": 18,
   "id": "20f3fac4-4ea0-420a-ae10-172987f379a2",
   "metadata": {},
   "outputs": [
    {
     "data": {
      "text/plain": [
       "'Hello'"
      ]
     },
     "execution_count": 18,
     "metadata": {},
     "output_type": "execute_result"
    }
   ],
   "source": [
    "a = \"HelloWorld\"\n",
    "b = a.replace(\"World\", \"\")\n",
    "b"
   ]
  },
  {
   "cell_type": "code",
   "execution_count": 19,
   "id": "fa466fc5-52fb-451e-a4ed-4d4b3457dd34",
   "metadata": {},
   "outputs": [
    {
     "name": "stdout",
     "output_type": "stream",
     "text": [
      "HelloWorld2024\n"
     ]
    }
   ],
   "source": [
    "a = \"HelloWorld\"\n",
    "b = a + \"2024\"\n",
    "print(b)"
   ]
  },
  {
   "cell_type": "code",
   "execution_count": 25,
   "id": "16d8ff24-2995-4ecb-8eb8-da78bf7c0d84",
   "metadata": {},
   "outputs": [
    {
     "data": {
      "text/plain": [
       "'HeloWorld'"
      ]
     },
     "execution_count": 25,
     "metadata": {},
     "output_type": "execute_result"
    }
   ],
   "source": [
    "a = \"HelloWorld\"\n",
    "b = a[:2]+a[3:]\n",
    "b"
   ]
  },
  {
   "cell_type": "code",
   "execution_count": 30,
   "id": "fd38fdb1-5448-41df-af3f-17da07371a0c",
   "metadata": {},
   "outputs": [
    {
     "data": {
      "text/plain": [
       "'HelloWorldProagramming'"
      ]
     },
     "execution_count": 30,
     "metadata": {},
     "output_type": "execute_result"
    }
   ],
   "source": [
    "a = \"HelloWorld\"\n",
    "b = \"Proagramming\"\n",
    "\n",
    "c = a + b\n",
    "c"
   ]
  },
  {
   "cell_type": "markdown",
   "id": "bedbbdb9-c4bc-4207-868e-b691496edab4",
   "metadata": {},
   "source": [
    "### Palindrome"
   ]
  },
  {
   "cell_type": "code",
   "execution_count": 34,
   "id": "9fd4cb13-ff5c-4126-8945-0bebd0ad70f1",
   "metadata": {},
   "outputs": [
    {
     "name": "stdin",
     "output_type": "stream",
     "text": [
      " madam\n"
     ]
    },
    {
     "name": "stdout",
     "output_type": "stream",
     "text": [
      "madam is a palindrome\n"
     ]
    }
   ],
   "source": [
    "a = input()\n",
    "if a == a[::-1]:\n",
    "    print(a, \"is a palindrome\")\n",
    "else:\n",
    "    print(a, \"its not a palindrome\")\n"
   ]
  },
  {
   "cell_type": "code",
   "execution_count": 36,
   "id": "40e3799d-9c8e-4eb2-8bea-561786407eff",
   "metadata": {},
   "outputs": [
    {
     "name": "stdout",
     "output_type": "stream",
     "text": [
      "Hello World\n"
     ]
    }
   ],
   "source": [
    "a = \"hello world\"\n",
    "b = a.title()\n",
    "print(b)"
   ]
  },
  {
   "cell_type": "code",
   "execution_count": 37,
   "id": "0a6873fc-c272-4f95-89e6-e6d048be9dbe",
   "metadata": {},
   "outputs": [
    {
     "name": "stdout",
     "output_type": "stream",
     "text": [
      "hELLO wORLD\n"
     ]
    }
   ],
   "source": [
    "a = \"Hello World\"\n",
    "b= a.swapcase()\n",
    "print(b)"
   ]
  },
  {
   "cell_type": "code",
   "execution_count": null,
   "id": "1d53ea6e-320d-48bf-928d-5604b7563c4e",
   "metadata": {},
   "outputs": [],
   "source": []
  }
 ],
 "metadata": {
  "kernelspec": {
   "display_name": "Python 3 (ipykernel)",
   "language": "python",
   "name": "python3"
  },
  "language_info": {
   "codemirror_mode": {
    "name": "ipython",
    "version": 3
   },
   "file_extension": ".py",
   "mimetype": "text/x-python",
   "name": "python",
   "nbconvert_exporter": "python",
   "pygments_lexer": "ipython3",
   "version": "3.12.7"
  }
 },
 "nbformat": 4,
 "nbformat_minor": 5
}
