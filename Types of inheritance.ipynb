{
 "cells": [
  {
   "cell_type": "markdown",
   "id": "90a021e6-057d-4f19-a3d4-7cc0fe2bf678",
   "metadata": {},
   "source": [
    "###SINGLE INHERITANCE"
   ]
  },
  {
   "cell_type": "code",
   "execution_count": 3,
   "id": "5afdd7ee-3acf-44ce-a390-4e844ca75346",
   "metadata": {},
   "outputs": [
    {
     "name": "stdout",
     "output_type": "stream",
     "text": [
      "25\n"
     ]
    }
   ],
   "source": [
    "class Grandparent:\n",
    "    def __init__(self,a,b,c,d):\n",
    "        self.name = a\n",
    "        self.age = b\n",
    "        self.relation = c\n",
    "        self.members = d\n",
    "    def details(self):\n",
    "        print(self.name)\n",
    "    def details1(self):\n",
    "        print(self.age)\n",
    "class child1(Grandparent):\n",
    "    def show(self):\n",
    "        print(self.relation)\n",
    "p1 = child1(\"kavin\",25,\"son\",3)\n",
    "p1.details1()"
   ]
  },
  {
   "cell_type": "markdown",
   "id": "b77f3114-0d1e-42d5-8c9b-7404e6b5ec21",
   "metadata": {},
   "source": [
    "### Multiple inheritance"
   ]
  },
  {
   "cell_type": "code",
   "execution_count": 7,
   "id": "4cc50bc5-d3ff-4dea-855a-1dd282703dd3",
   "metadata": {},
   "outputs": [
    {
     "name": "stdout",
     "output_type": "stream",
     "text": [
      "Eshwar\n"
     ]
    }
   ],
   "source": [
    "class college:\n",
    "    def __init__(self,a,b,c,d):\n",
    "        self.name = a\n",
    "        self.age = b\n",
    "        self.dept = c\n",
    "        self.cname = d\n",
    "        def detail(self):\n",
    "            print (self.name)\n",
    "class student1:\n",
    "    def show(self):\n",
    "        print(self.age)\n",
    "class student2:\n",
    "    def show1(self):\n",
    "        print(self.dept)\n",
    "class student3(college,student1,student2):\n",
    "    def show3(self):\n",
    "        print(self.cname)\n",
    "\n",
    "p1 = student3(\"kavin\",25,\"ECE\",\"Eshwar\")\n",
    "p1.show3()"
   ]
  },
  {
   "cell_type": "markdown",
   "id": "6c15c0a0-df58-4eb7-a922-d52db592e9f6",
   "metadata": {},
   "source": [
    "### MULTILEVEL INHERITANCE"
   ]
  },
  {
   "cell_type": "code",
   "execution_count": 11,
   "id": "4c0176fe-2543-48c9-b5a5-732a35b8937d",
   "metadata": {},
   "outputs": [
    {
     "name": "stdout",
     "output_type": "stream",
     "text": [
      "ECE\n"
     ]
    }
   ],
   "source": [
    "class College:\n",
    "    def details(self,a,b,c,d):\n",
    "        self.name = a\n",
    "        self.dept = b\n",
    "        self.age = c\n",
    "        self.cname = d\n",
    "    def details1(self):\n",
    "        print(self.name)\n",
    "class student1(college):\n",
    "    def show1(self):\n",
    "        print(self.age)\n",
    "class student2(student1):\n",
    "    def show2(self):\n",
    "        print(self.dept)\n",
    "class student3(student2):\n",
    "    def show3(self):\n",
    "        print(self.cname)\n",
    "p1 = student3(\"kavin\",25,\"ECE\",\"Eshwar\")\n",
    "p1.show2()"
   ]
  },
  {
   "cell_type": "markdown",
   "id": "f6d65406-8cc6-4079-a301-da2c66e84254",
   "metadata": {},
   "source": [
    "### Hierarical inheritance"
   ]
  },
  {
   "cell_type": "code",
   "execution_count": 15,
   "id": "aadcb652-81e1-411a-b526-c33250a069b0",
   "metadata": {},
   "outputs": [
    {
     "name": "stdout",
     "output_type": "stream",
     "text": [
      "25\n",
      "ECE\n",
      "kavin\n"
     ]
    }
   ],
   "source": [
    "class college:\n",
    "    def __init__(self,a,b,c,d):\n",
    "        self.name = a\n",
    "        self.age = b\n",
    "        self.dept = c\n",
    "        self.cname = d\n",
    "    def myname(self):\n",
    "        print(self.name)\n",
    "class student(college):\n",
    "    def show(self):\n",
    "        print(self.age)\n",
    "class student2(student):\n",
    "    def show2(self):\n",
    "        print(self.dept)\n",
    "class student3(student2):\n",
    "    def show3(self):\n",
    "        print(self.cname)\n",
    "p1 = student3(\"kavin\",25,\"ECE\",\"Eshwar\")\n",
    "p1.show()\n",
    "p1.show2()\n",
    "p1.myname()"
   ]
  },
  {
   "cell_type": "markdown",
   "id": "a673b81d-b54f-4684-8fad-0b534608e882",
   "metadata": {},
   "source": [
    "###Hybrid Inheritance"
   ]
  },
  {
   "cell_type": "code",
   "execution_count": 25,
   "id": "1ac391e4-37a8-426b-990c-6ccd803a623e",
   "metadata": {},
   "outputs": [
    {
     "name": "stdout",
     "output_type": "stream",
     "text": [
      "ECE\n"
     ]
    }
   ],
   "source": [
    "class college:\n",
    "    def __init__(self,a,b,c,d):\n",
    "        self.name = a\n",
    "        self.age = b\n",
    "        self.dept = c\n",
    "        self.cname = d\n",
    "    def details(self):\n",
    "        print(self.name)\n",
    "class student(college):\n",
    "    def show(self):\n",
    "        print(self.name)\n",
    "    \n",
    "class student1(college):\n",
    "    def show1(self):\n",
    "        print(self.age)\n",
    "class studnet2(student1):\n",
    "    def show2(self):\n",
    "        print(self.dept)\n",
    "class student4(student,student1,student2):\n",
    "    def show4(self):\n",
    "        print(self.cname)\n",
    "# p1 = student4(\"kavin\",25,\"ECE\",\"Eshwar\")\n",
    "# p1.show4()   \n",
    "p2 = student2(\"kavin\",25,\"ECE\",\"Eshwar\")\n",
    "p2.show2()"
   ]
  },
  {
   "cell_type": "code",
   "execution_count": null,
   "id": "450aa5bc-480a-4a40-bb93-e498e5858ad0",
   "metadata": {},
   "outputs": [],
   "source": []
  }
 ],
 "metadata": {
  "kernelspec": {
   "display_name": "Python 3 (ipykernel)",
   "language": "python",
   "name": "python3"
  },
  "language_info": {
   "codemirror_mode": {
    "name": "ipython",
    "version": 3
   },
   "file_extension": ".py",
   "mimetype": "text/x-python",
   "name": "python",
   "nbconvert_exporter": "python",
   "pygments_lexer": "ipython3",
   "version": "3.12.7"
  }
 },
 "nbformat": 4,
 "nbformat_minor": 5
}
