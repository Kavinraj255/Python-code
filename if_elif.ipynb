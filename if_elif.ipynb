{
 "cells": [
  {
   "cell_type": "markdown",
   "id": "839662a2-0160-4324-8fcc-ba326e20b6d9",
   "metadata": {},
   "source": [
    "### Display last digit of number"
   ]
  },
  {
   "cell_type": "code",
   "execution_count": 5,
   "id": "8baca4f7-9708-4e11-823b-ba7fd7154e59",
   "metadata": {},
   "outputs": [
    {
     "name": "stdout",
     "output_type": "stream",
     "text": [
      "3\n"
     ]
    }
   ],
   "source": [
    "a = 123\n",
    "if a<100:\n",
    "    print(\"not poss\")\n",
    "else:\n",
    "    last = a%10\n",
    "    print(last)"
   ]
  },
  {
   "cell_type": "code",
   "execution_count": 7,
   "id": "7e3aab04-f1d4-422f-b0e9-73c12cb7d34b",
   "metadata": {},
   "outputs": [
    {
     "name": "stdin",
     "output_type": "stream",
     "text": [
      " onion\n"
     ]
    },
    {
     "name": "stdout",
     "output_type": "stream",
     "text": [
      "its not a vowels\n"
     ]
    }
   ],
   "source": [
    "a = input()\n",
    "vowels = \"aeiouAEIOU\"\n",
    "if a in vowels:\n",
    "    print(a, \"its a vowel\")\n",
    "else:\n",
    "    print(\"its not a vowels\")"
   ]
  },
  {
   "cell_type": "code",
   "execution_count": null,
   "id": "ddd4b8d7-8fde-4b5c-a61f-8142d1012221",
   "metadata": {},
   "outputs": [],
   "source": [
    "a = int(input(\"Enter the Tamil marks:\"))\n",
    "b = int(input(\"Enter the English marks:\"))\n",
    "c = int(input(\"Enter the Maths marks:\"))\n",
    "d = int(input(\"Enter the Science marks:\"))\n",
    "e = int(input(\"Enter the Social marks:\"))\n",
    "Total_sub_marks = a+b+c+d+e\n",
    "Total_marks = int(input(\"Enter the total marks\"))\n",
    "Average_perct = (Total_sub_marks/Total_marks)*100\n",
    "if Average_perct> 90:\n",
    "    print(\"Grade A+\")\n",
    "elif Average_perct <= 90 and Average_perct > 80:\n",
    "    print(\"Grade B\")\n",
    "elif Average_perct <= 80 and Average_perct > 70:\n",
    "    print(\"Grade C\")\n",
    "elif Average_perct <= 70 and Average_perct > 60:\n",
    "    print(\"Grade D\")\n",
    "elif Average_perct <= 60 and Average_perct > 50:\n",
    "    print(\"Grade E\")\n",
    "elif Average_perct <= 50 and Average_perct > 40:\n",
    "    print(\"Grade F\")\n",
    "elif Average_perct <= 40 and Average_perct > 35:\n",
    "    print(\"Grade G\")\n",
    "else:\n",
    "    print(\"Fail\")\n",
    "\n",
    "                   \n"
   ]
  },
  {
   "cell_type": "code",
   "execution_count": null,
   "id": "a21c55a5-26f5-44eb-b8b3-94533d808a91",
   "metadata": {},
   "outputs": [],
   "source": []
  }
 ],
 "metadata": {
  "kernelspec": {
   "display_name": "Python 3 (ipykernel)",
   "language": "python",
   "name": "python3"
  },
  "language_info": {
   "codemirror_mode": {
    "name": "ipython",
    "version": 3
   },
   "file_extension": ".py",
   "mimetype": "text/x-python",
   "name": "python",
   "nbconvert_exporter": "python",
   "pygments_lexer": "ipython3",
   "version": "3.12.7"
  }
 },
 "nbformat": 4,
 "nbformat_minor": 5
}
