{
 "cells": [
  {
   "cell_type": "markdown",
   "id": "8fdc3b03-257e-44b1-a292-ae3eb864a4ce",
   "metadata": {},
   "source": [
    "### Convert decimal to binary"
   ]
  },
  {
   "cell_type": "code",
   "execution_count": 1,
   "id": "f51091e2-5a13-4ffc-9559-c75f53b504e1",
   "metadata": {},
   "outputs": [
    {
     "name": "stdin",
     "output_type": "stream",
     "text": [
      " 10\n"
     ]
    },
    {
     "name": "stdout",
     "output_type": "stream",
     "text": [
      "1010\n"
     ]
    }
   ],
   "source": [
    "a = int(input())\n",
    "binary = \"\"\n",
    "if a == 0:\n",
    "    binary = \"0\"\n",
    "else:\n",
    "    while a>0:\n",
    "        rem = a%2\n",
    "        binary = str(rem)+binary\n",
    "        a = a//2\n",
    "print(binary)\n",
    "        \n"
   ]
  },
  {
   "cell_type": "markdown",
   "id": "68df101c-dc22-4779-8ffb-f72af9fe0073",
   "metadata": {},
   "source": [
    "### Armstrong number"
   ]
  },
  {
   "cell_type": "code",
   "execution_count": 7,
   "id": "d8b5696b-1723-4e26-9372-6eaa6db55dd5",
   "metadata": {},
   "outputs": [
    {
     "name": "stdin",
     "output_type": "stream",
     "text": [
      " 153\n"
     ]
    },
    {
     "name": "stdout",
     "output_type": "stream",
     "text": [
      "Armstrong number\n"
     ]
    }
   ],
   "source": [
    "a = int(input())\n",
    "temp = a\n",
    "b = len(str(a))\n",
    "sum = 0\n",
    "while temp > 0:\n",
    "    rem = temp%10\n",
    "    sum+= rem**b\n",
    "    temp = temp//10\n",
    "if a==sum:\n",
    "    print(\"Armstrong number\")\n",
    "else:\n",
    "    print(\"Not Armstrong number\")"
   ]
  },
  {
   "cell_type": "code",
   "execution_count": null,
   "id": "19570d3b-e3c5-4af3-8732-977c3d5a6c59",
   "metadata": {},
   "outputs": [],
   "source": []
  }
 ],
 "metadata": {
  "kernelspec": {
   "display_name": "Python 3 (ipykernel)",
   "language": "python",
   "name": "python3"
  },
  "language_info": {
   "codemirror_mode": {
    "name": "ipython",
    "version": 3
   },
   "file_extension": ".py",
   "mimetype": "text/x-python",
   "name": "python",
   "nbconvert_exporter": "python",
   "pygments_lexer": "ipython3",
   "version": "3.12.7"
  }
 },
 "nbformat": 4,
 "nbformat_minor": 5
}
