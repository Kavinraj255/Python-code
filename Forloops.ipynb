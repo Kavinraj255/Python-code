{
 "cells": [
  {
   "cell_type": "code",
   "execution_count": 4,
   "id": "94224c93-1374-410d-9d16-034d61ca809f",
   "metadata": {},
   "outputs": [
    {
     "name": "stdout",
     "output_type": "stream",
     "text": [
      "[6, 89, 90, 88]\n"
     ]
    }
   ],
   "source": [
    "k =[1,34,6,89,90,88]\n",
    "k[2]\n",
    "print(k[2:6])\n"
   ]
  },
  {
   "cell_type": "code",
   "execution_count": 7,
   "id": "d30102f3-3160-4543-823f-b30b1d704c69",
   "metadata": {},
   "outputs": [
    {
     "name": "stdout",
     "output_type": "stream",
     "text": [
      "6\n",
      "89\n",
      "90\n",
      "88\n"
     ]
    }
   ],
   "source": [
    "k =[1,34,6,89,90,88]\n",
    "for i in k[2:6]:\n",
    "    print(i)\n",
    "    "
   ]
  },
  {
   "cell_type": "code",
   "execution_count": 11,
   "id": "320ac9b9-bb3f-4cda-9fe6-ebe55e44b48f",
   "metadata": {},
   "outputs": [
    {
     "name": "stdout",
     "output_type": "stream",
     "text": [
      "1\n",
      "77\n",
      "99\n",
      "89\n"
     ]
    }
   ],
   "source": [
    "k = [1,77,99,89,90,88]\n",
    "\n",
    "for i in k:\n",
    "    if i%2 ==0:\n",
    "        break\n",
    "    print(i)"
   ]
  },
  {
   "cell_type": "code",
   "execution_count": 12,
   "id": "c24a83ac-ca5d-4268-9685-0e6a1f331850",
   "metadata": {},
   "outputs": [
    {
     "name": "stdout",
     "output_type": "stream",
     "text": [
      "1\n",
      "89\n"
     ]
    }
   ],
   "source": [
    "k = [1,34,6,89,90,88]\n",
    "\n",
    "for i in k:\n",
    "    if i%2 ==0:\n",
    "        continue\n",
    "    print(i)"
   ]
  },
  {
   "cell_type": "code",
   "execution_count": 14,
   "id": "0cb09631-f12d-4635-a38b-aa098dcb67f7",
   "metadata": {},
   "outputs": [
    {
     "name": "stdout",
     "output_type": "stream",
     "text": [
      "1\n",
      "89\n"
     ]
    }
   ],
   "source": [
    "k = [1,34,6,89,90,88]\n",
    "\n",
    "for i in k:\n",
    "    pass\n",
    "    if i%2 ==1:\n",
    "        print(i)"
   ]
  },
  {
   "cell_type": "code",
   "execution_count": 18,
   "id": "a76cd435-9d39-4c64-a4d6-3e0ea186811e",
   "metadata": {},
   "outputs": [
    {
     "name": "stdin",
     "output_type": "stream",
     "text": [
      "enter your input ASSAM\n",
      "enter your input MANGO\n"
     ]
    },
    {
     "name": "stdout",
     "output_type": "stream",
     "text": [
      "assam\n",
      "mango\n"
     ]
    }
   ],
   "source": [
    "k = [1,34,6,89,90,88]\n",
    "\n",
    "\n",
    "str1 = input(\"enter your input\").lower()\n",
    "str2 = input(\"enter your input\").lower()\n",
    "\n",
    "print(str1)\n",
    "print(str2)"
   ]
  },
  {
   "cell_type": "code",
   "execution_count": 21,
   "id": "052ea3b6-e2b6-43aa-b1ea-f43b2e761222",
   "metadata": {},
   "outputs": [
    {
     "name": "stdin",
     "output_type": "stream",
     "text": [
      "enter your input silent\n",
      "enter your input listen\n"
     ]
    },
    {
     "name": "stdout",
     "output_type": "stream",
     "text": [
      "Strings are anagrams\n",
      "Strings are anagrams\n",
      "Strings are anagrams\n",
      "Strings are anagrams\n",
      "Strings are anagrams\n",
      "Strings are anagrams\n"
     ]
    }
   ],
   "source": [
    "str1 = input(\"enter your input\").lower()\n",
    "str2 = input(\"enter your input\").lower()\n",
    "\n",
    "if len(str1)!=len(str2):\n",
    "    print(\"Its not an anagram\")\n",
    "count1 = {}\n",
    "for i in str1:\n",
    "    if i in count1:\n",
    "        count1[i]+=1\n",
    "    else:\n",
    "        count1[i] = 1\n",
    "count2 = {}\n",
    "for j in str2:\n",
    "    if j in count2:\n",
    "        count2[j]+=1\n",
    "    else:\n",
    "        count2[j]=1\n",
    "is_anagram = True\n",
    "for i in count1:\n",
    "    if j not in count2 or count1[i]!=count2[j]:\n",
    "        is_anagram=False\n",
    "        break\n",
    "\n",
    "    if is_anagram:\n",
    "        print(\"Strings are anagrams\")\n",
    "    else:\n",
    "        print(\"Not an anagram\")"
   ]
  },
  {
   "cell_type": "code",
   "execution_count": null,
   "id": "6aa097ce-962e-4bb9-a927-74d1cda39a0d",
   "metadata": {},
   "outputs": [],
   "source": []
  }
 ],
 "metadata": {
  "kernelspec": {
   "display_name": "Python 3 (ipykernel)",
   "language": "python",
   "name": "python3"
  },
  "language_info": {
   "codemirror_mode": {
    "name": "ipython",
    "version": 3
   },
   "file_extension": ".py",
   "mimetype": "text/x-python",
   "name": "python",
   "nbconvert_exporter": "python",
   "pygments_lexer": "ipython3",
   "version": "3.12.7"
  }
 },
 "nbformat": 4,
 "nbformat_minor": 5
}
