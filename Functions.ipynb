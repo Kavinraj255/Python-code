{
 "cells": [
  {
   "cell_type": "markdown",
   "id": "1abdcfc9-3b4b-44a9-b0dc-aebfa18cffae",
   "metadata": {},
   "source": [
    "# Functions"
   ]
  },
  {
   "cell_type": "code",
   "execution_count": 4,
   "id": "6b37d955-535a-41d8-b3e3-aff88b148610",
   "metadata": {},
   "outputs": [
    {
     "name": "stdout",
     "output_type": "stream",
     "text": [
      "hi\n"
     ]
    }
   ],
   "source": [
    "def function1():\n",
    "    print(\"hi\")\n",
    "function1()"
   ]
  },
  {
   "cell_type": "markdown",
   "id": "b52f80c7-5a44-477e-b1c6-52aba569069d",
   "metadata": {},
   "source": [
    "# local variable"
   ]
  },
  {
   "cell_type": "code",
   "execution_count": 18,
   "id": "72ad7c3f-1ef2-4dc0-88a0-485c52e82234",
   "metadata": {},
   "outputs": [
    {
     "name": "stdout",
     "output_type": "stream",
     "text": [
      "23\n"
     ]
    }
   ],
   "source": [
    "##Declare variable outside of function\n",
    "a = 12\n",
    "b = 11\n",
    "\n",
    "def add():\n",
    "    \n",
    "    c = a + b\n",
    "    print(c)\n",
    "\n",
    "\n",
    "add()\n"
   ]
  },
  {
   "cell_type": "code",
   "execution_count": 24,
   "id": "ccfa2e32-0d01-47b4-ba93-c08c0a9718b8",
   "metadata": {},
   "outputs": [
    {
     "name": "stdout",
     "output_type": "stream",
     "text": [
      "23 1\n"
     ]
    }
   ],
   "source": [
    "a = 12\n",
    "b = 11\n",
    "\n",
    "def add():\n",
    "    global c,d\n",
    "    c = a + b\n",
    "    d = a - b\n",
    "    \n",
    "def sub():\n",
    "    print(c,d)\n",
    "\n",
    "add()\n",
    "sub()"
   ]
  },
  {
   "cell_type": "code",
   "execution_count": null,
   "id": "0c4e2198-8584-4eef-ad9d-2a6e02803201",
   "metadata": {},
   "outputs": [],
   "source": []
  }
 ],
 "metadata": {
  "kernelspec": {
   "display_name": "Python 3 (ipykernel)",
   "language": "python",
   "name": "python3"
  },
  "language_info": {
   "codemirror_mode": {
    "name": "ipython",
    "version": 3
   },
   "file_extension": ".py",
   "mimetype": "text/x-python",
   "name": "python",
   "nbconvert_exporter": "python",
   "pygments_lexer": "ipython3",
   "version": "3.12.7"
  }
 },
 "nbformat": 4,
 "nbformat_minor": 5
}
