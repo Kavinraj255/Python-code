{
 "cells": [
  {
   "cell_type": "markdown",
   "id": "92187907-f83f-4066-bb01-ede56d491ee6",
   "metadata": {},
   "source": [
    "### List"
   ]
  },
  {
   "cell_type": "code",
   "execution_count": null,
   "id": "a191af40-4ede-40dd-acb8-f63bed2b6179",
   "metadata": {},
   "outputs": [],
   "source": [
    "-- List are mutable\n",
    "-- List allow duplicates"
   ]
  },
  {
   "cell_type": "code",
   "execution_count": null,
   "id": "9cbe9096-1600-469b-be51-80d04dd303ea",
   "metadata": {},
   "outputs": [],
   "source": [
    "a = [\"k\", \"L\", \"MM\",\"k\"]\n",
    "a[0]"
   ]
  },
  {
   "cell_type": "code",
   "execution_count": null,
   "id": "7209c1c2-f5c7-4519-8b07-96ca67dbbcac",
   "metadata": {},
   "outputs": [],
   "source": [
    "a = [\"k\", \"L\", \"MM\",\"k\"]\n",
    "print(a)"
   ]
  },
  {
   "cell_type": "code",
   "execution_count": null,
   "id": "bd344aae-e376-4827-8170-d1f5f0df2289",
   "metadata": {},
   "outputs": [],
   "source": [
    "a = [\"k\", \"L\", \"MM\",\"k\",1,34,56,0,1+0j]\n",
    "print(a)"
   ]
  },
  {
   "cell_type": "code",
   "execution_count": null,
   "id": "23825589-8660-4c3d-89d1-0adb904f07e9",
   "metadata": {},
   "outputs": [],
   "source": [
    "a = [\"k\", \"L\", \"MM\",\"k\",1,34,56,0,1+0j]\n",
    "type(a)"
   ]
  },
  {
   "cell_type": "code",
   "execution_count": null,
   "id": "569f89c6-f7a5-42f9-95de-9b11e21c4962",
   "metadata": {},
   "outputs": [],
   "source": [
    "a = [\"k\", \"L\", \"MM\",\"k\",1,34,56,0,1+0j]\n",
    "len(a)"
   ]
  },
  {
   "cell_type": "code",
   "execution_count": null,
   "id": "91617e6e-2270-46b5-a22e-a406fdb7174a",
   "metadata": {},
   "outputs": [],
   "source": [
    "-- List slicing"
   ]
  },
  {
   "cell_type": "code",
   "execution_count": null,
   "id": "b92d1cd4-3729-4220-a804-bb7bb5e11984",
   "metadata": {},
   "outputs": [],
   "source": [
    "a = [\"k\", \"L\", \"MM\",\"k\",1,34,56,0,1+0j]\n",
    "\n",
    "a[2:3]"
   ]
  },
  {
   "cell_type": "code",
   "execution_count": null,
   "id": "23f950fe-869e-46bc-bb0b-8d51d2e7fcbd",
   "metadata": {},
   "outputs": [],
   "source": [
    "a = [\"k\", \"L\", \"MM\",\"k\",1,34,56,0,1+0j]\n",
    "a[2:6]"
   ]
  },
  {
   "cell_type": "code",
   "execution_count": null,
   "id": "8d62a259-77a4-476b-8836-fb46d9024372",
   "metadata": {},
   "outputs": [],
   "source": [
    "a[0] = 67\n",
    "a"
   ]
  },
  {
   "cell_type": "markdown",
   "id": "c908eabb-38c8-4c97-b8a4-67be20115f63",
   "metadata": {},
   "source": [
    "### insert "
   ]
  },
  {
   "cell_type": "code",
   "execution_count": null,
   "id": "f16ea152-4a39-431f-9c7a-a95f61b742d6",
   "metadata": {},
   "outputs": [],
   "source": [
    "a = [1,2,3,5,\"ji\",\"kil\",\"long\",\"kil\"]\n",
    "a[2] = 67\n",
    "a"
   ]
  },
  {
   "cell_type": "code",
   "execution_count": null,
   "id": "82f8f8a9-3d5e-4db0-81c1-25d060ccaae3",
   "metadata": {},
   "outputs": [],
   "source": [
    "a.insert(3,\"hello\")\n",
    "a"
   ]
  },
  {
   "cell_type": "code",
   "execution_count": null,
   "id": "32426b6f-6b33-4cd2-9f88-d6f68c32a59c",
   "metadata": {},
   "outputs": [],
   "source": [
    "a.append(\"a\")\n",
    "print(a)"
   ]
  },
  {
   "cell_type": "code",
   "execution_count": 3,
   "id": "7509ce2b-53f8-419b-a7b8-78e7fb703b3c",
   "metadata": {},
   "outputs": [
    {
     "name": "stdout",
     "output_type": "stream",
     "text": [
      "[1, 2, 3, 5, 'ji', 'kil', 'long', 'kil', 1, 2, 4, 7]\n"
     ]
    }
   ],
   "source": [
    "a = [1,2,3,5,\"ji\",\"kil\",\"long\",\"kil\"]\n",
    "b = [1,2,4,7]\n",
    "a.extend(b)\n",
    "print(a)"
   ]
  },
  {
   "cell_type": "markdown",
   "id": "eea7585e-0097-44aa-89e2-1228fea6a7db",
   "metadata": {},
   "source": [
    "### Remove"
   ]
  },
  {
   "cell_type": "code",
   "execution_count": 4,
   "id": "5b3407ba-3295-49e7-a593-e2898aedc6bc",
   "metadata": {},
   "outputs": [
    {
     "name": "stdout",
     "output_type": "stream",
     "text": [
      "[2, 3, 5, 'ji', 'kil', 'long', 'kil']\n"
     ]
    }
   ],
   "source": [
    "a = [1,2,3,5,\"ji\",\"kil\",\"long\",\"kil\"]\n",
    "a.remove(1)\n",
    "print(a)"
   ]
  },
  {
   "cell_type": "code",
   "execution_count": 5,
   "id": "75b2e02f-953d-4371-b2ab-3893c0411a93",
   "metadata": {},
   "outputs": [
    {
     "data": {
      "text/plain": [
       "[1, 2, 3, 5, 'ji', 'kil', 'long']"
      ]
     },
     "execution_count": 5,
     "metadata": {},
     "output_type": "execute_result"
    }
   ],
   "source": [
    "a = [1,2,3,5,\"ji\",\"kil\",\"long\",\"kil\"]\n",
    "a.pop()\n",
    "a"
   ]
  },
  {
   "cell_type": "code",
   "execution_count": 6,
   "id": "78429908-ec4b-4931-8c0d-0f5621ba0354",
   "metadata": {},
   "outputs": [
    {
     "data": {
      "text/plain": [
       "[1, 3, 5, 'ji', 'kil', 'long', 'kil']"
      ]
     },
     "execution_count": 6,
     "metadata": {},
     "output_type": "execute_result"
    }
   ],
   "source": [
    "a = [1,2,3,5,\"ji\",\"kil\",\"long\",\"kil\"]\n",
    "a.pop(1)\n",
    "a"
   ]
  },
  {
   "cell_type": "code",
   "execution_count": null,
   "id": "1e570163-fa1c-4c00-804e-162ce21250bf",
   "metadata": {},
   "outputs": [],
   "source": []
  }
 ],
 "metadata": {
  "kernelspec": {
   "display_name": "Python 3 (ipykernel)",
   "language": "python",
   "name": "python3"
  },
  "language_info": {
   "codemirror_mode": {
    "name": "ipython",
    "version": 3
   },
   "file_extension": ".py",
   "mimetype": "text/x-python",
   "name": "python",
   "nbconvert_exporter": "python",
   "pygments_lexer": "ipython3",
   "version": "3.12.7"
  }
 },
 "nbformat": 4,
 "nbformat_minor": 5
}
