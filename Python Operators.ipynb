{
 "cells": [
  {
   "cell_type": "markdown",
   "id": "7d06a3d1-2864-40e8-8fe8-ff53cce75261",
   "metadata": {},
   "source": [
    "### PYTHON OPERATORS"
   ]
  },
  {
   "cell_type": "markdown",
   "id": "31cb9367-da4e-43e2-afa8-10ca05714e57",
   "metadata": {},
   "source": [
    "### ARITHMATIC OPERATORS"
   ]
  },
  {
   "cell_type": "code",
   "execution_count": 1,
   "id": "7f6bc76c-de97-45a6-9741-93f2de0177f4",
   "metadata": {},
   "outputs": [
    {
     "data": {
      "text/plain": [
       "30"
      ]
     },
     "execution_count": 1,
     "metadata": {},
     "output_type": "execute_result"
    }
   ],
   "source": [
    "A = 10\n",
    "B = 20\n",
    "A+B"
   ]
  },
  {
   "cell_type": "code",
   "execution_count": 2,
   "id": "f936baf1-a768-4fd1-87fc-6ac877fb3ccc",
   "metadata": {},
   "outputs": [
    {
     "data": {
      "text/plain": [
       "-10"
      ]
     },
     "execution_count": 2,
     "metadata": {},
     "output_type": "execute_result"
    }
   ],
   "source": [
    "A-B"
   ]
  },
  {
   "cell_type": "code",
   "execution_count": 4,
   "id": "5c8b3c8d-3e17-4211-8eab-d57e371b3d0a",
   "metadata": {},
   "outputs": [
    {
     "data": {
      "text/plain": [
       "200"
      ]
     },
     "execution_count": 4,
     "metadata": {},
     "output_type": "execute_result"
    }
   ],
   "source": [
    "A*B"
   ]
  },
  {
   "cell_type": "code",
   "execution_count": 5,
   "id": "6b61e03b-8f6a-42f6-951f-37bf3bdc7360",
   "metadata": {},
   "outputs": [
    {
     "data": {
      "text/plain": [
       "2.0"
      ]
     },
     "execution_count": 5,
     "metadata": {},
     "output_type": "execute_result"
    }
   ],
   "source": [
    "B/A"
   ]
  },
  {
   "cell_type": "code",
   "execution_count": 6,
   "id": "da6c4605-d37d-479f-8a77-56728a3048c7",
   "metadata": {},
   "outputs": [
    {
     "data": {
      "text/plain": [
       "2"
      ]
     },
     "execution_count": 6,
     "metadata": {},
     "output_type": "execute_result"
    }
   ],
   "source": [
    "B//A"
   ]
  },
  {
   "cell_type": "code",
   "execution_count": 7,
   "id": "e3ba9edb-96a7-42e8-96ed-fa4d75f42713",
   "metadata": {},
   "outputs": [
    {
     "data": {
      "text/plain": [
       "0"
      ]
     },
     "execution_count": 7,
     "metadata": {},
     "output_type": "execute_result"
    }
   ],
   "source": [
    "B%A"
   ]
  },
  {
   "cell_type": "markdown",
   "id": "27c253da-3c4c-4778-9943-588a81e6159b",
   "metadata": {},
   "source": [
    "### ASSIGNMENT OPERATOR"
   ]
  },
  {
   "cell_type": "code",
   "execution_count": 8,
   "id": "e0f3fbe6-162f-4f35-b2ea-2ac3dd71174c",
   "metadata": {},
   "outputs": [
    {
     "data": {
      "text/plain": [
       "12"
      ]
     },
     "execution_count": 8,
     "metadata": {},
     "output_type": "execute_result"
    }
   ],
   "source": [
    "A = 10\n",
    "A+=1\n",
    "A = A+1\n",
    "A"
   ]
  },
  {
   "cell_type": "code",
   "execution_count": 11,
   "id": "afc41b63-2afc-4eb8-944b-adbb60c5a50f",
   "metadata": {},
   "outputs": [
    {
     "data": {
      "text/plain": [
       "11"
      ]
     },
     "execution_count": 11,
     "metadata": {},
     "output_type": "execute_result"
    }
   ],
   "source": [
    "A = 12\n",
    "A-=1\n",
    "A"
   ]
  },
  {
   "cell_type": "code",
   "execution_count": 12,
   "id": "cefa20f4-226c-470e-9ce1-4cdba3b6ad15",
   "metadata": {},
   "outputs": [
    {
     "data": {
      "text/plain": [
       "22"
      ]
     },
     "execution_count": 12,
     "metadata": {},
     "output_type": "execute_result"
    }
   ],
   "source": [
    "A*=2\n",
    "A"
   ]
  },
  {
   "cell_type": "code",
   "execution_count": 13,
   "id": "581755d1-fe26-45b5-8869-65e48ee860f7",
   "metadata": {},
   "outputs": [
    {
     "data": {
      "text/plain": [
       "7.333333333333333"
      ]
     },
     "execution_count": 13,
     "metadata": {},
     "output_type": "execute_result"
    }
   ],
   "source": [
    "A/=3\n",
    "A"
   ]
  },
  {
   "cell_type": "code",
   "execution_count": 18,
   "id": "faa3a371-e211-4b3f-8c9a-41954a8dc038",
   "metadata": {},
   "outputs": [
    {
     "data": {
      "text/plain": [
       "7"
      ]
     },
     "execution_count": 18,
     "metadata": {},
     "output_type": "execute_result"
    }
   ],
   "source": [
    "A = 22\n",
    "A//=3\n",
    "A"
   ]
  },
  {
   "cell_type": "code",
   "execution_count": 19,
   "id": "cef6b9b9-0ac7-4590-85dd-47678164a079",
   "metadata": {},
   "outputs": [
    {
     "data": {
      "text/plain": [
       "0"
      ]
     },
     "execution_count": 19,
     "metadata": {},
     "output_type": "execute_result"
    }
   ],
   "source": [
    "A%=7\n",
    "A"
   ]
  },
  {
   "cell_type": "markdown",
   "id": "847ef753-6d73-46cc-8c8a-813ca415adc5",
   "metadata": {},
   "source": [
    "### Comparison Operator"
   ]
  },
  {
   "cell_type": "code",
   "execution_count": 20,
   "id": "3ba40fb8-4cd7-43dd-8a69-71ec24131e1c",
   "metadata": {},
   "outputs": [
    {
     "data": {
      "text/plain": [
       "True"
      ]
     },
     "execution_count": 20,
     "metadata": {},
     "output_type": "execute_result"
    }
   ],
   "source": [
    "A = 10\n",
    "B = 5\n",
    "A>B"
   ]
  },
  {
   "cell_type": "code",
   "execution_count": 21,
   "id": "37f79636-003b-4a7d-bf1a-94bf0834fc79",
   "metadata": {},
   "outputs": [
    {
     "data": {
      "text/plain": [
       "False"
      ]
     },
     "execution_count": 21,
     "metadata": {},
     "output_type": "execute_result"
    }
   ],
   "source": [
    "A<B"
   ]
  },
  {
   "cell_type": "code",
   "execution_count": 22,
   "id": "53aad7f9-1887-4923-a6d7-d63d106033b3",
   "metadata": {},
   "outputs": [
    {
     "data": {
      "text/plain": [
       "True"
      ]
     },
     "execution_count": 22,
     "metadata": {},
     "output_type": "execute_result"
    }
   ],
   "source": [
    "A>=B"
   ]
  },
  {
   "cell_type": "code",
   "execution_count": 23,
   "id": "cfd1e9b8-13c4-41f7-b7a3-f8e5100da23e",
   "metadata": {},
   "outputs": [
    {
     "data": {
      "text/plain": [
       "False"
      ]
     },
     "execution_count": 23,
     "metadata": {},
     "output_type": "execute_result"
    }
   ],
   "source": [
    "A<=B"
   ]
  },
  {
   "cell_type": "code",
   "execution_count": 24,
   "id": "11e620db-ab75-4eaa-b6b4-c16794fa8c92",
   "metadata": {},
   "outputs": [
    {
     "data": {
      "text/plain": [
       "False"
      ]
     },
     "execution_count": 24,
     "metadata": {},
     "output_type": "execute_result"
    }
   ],
   "source": [
    "A==B"
   ]
  },
  {
   "cell_type": "code",
   "execution_count": 25,
   "id": "7ea5dc6d-493a-44b9-8da8-1a8257c20895",
   "metadata": {},
   "outputs": [
    {
     "data": {
      "text/plain": [
       "True"
      ]
     },
     "execution_count": 25,
     "metadata": {},
     "output_type": "execute_result"
    }
   ],
   "source": [
    "A!=B"
   ]
  },
  {
   "cell_type": "markdown",
   "id": "b3b4d552-a91a-49b1-ac06-bab87b9d2725",
   "metadata": {},
   "source": [
    "### Logical Operator"
   ]
  },
  {
   "cell_type": "code",
   "execution_count": 34,
   "id": "a6235845-0544-475c-8c3c-ad0898ed8e1b",
   "metadata": {},
   "outputs": [
    {
     "name": "stdout",
     "output_type": "stream",
     "text": [
      "False\n"
     ]
    }
   ],
   "source": [
    "A = 5\n",
    "B = 6\n",
    "print (A>B & B>A)"
   ]
  },
  {
   "cell_type": "code",
   "execution_count": 35,
   "id": "3fe63c6c-92f7-42ca-b9da-595d0d367006",
   "metadata": {},
   "outputs": [
    {
     "name": "stdout",
     "output_type": "stream",
     "text": [
      "True\n"
     ]
    }
   ],
   "source": [
    "A = 50 \n",
    "B = 20\n",
    "\n",
    "print(A<B or B<A)"
   ]
  },
  {
   "cell_type": "code",
   "execution_count": 38,
   "id": "b94d7bc1-7698-48ef-b7e4-066f6aa5cd2f",
   "metadata": {},
   "outputs": [
    {
     "name": "stdout",
     "output_type": "stream",
     "text": [
      "False\n"
     ]
    }
   ],
   "source": [
    "A = 100\n",
    "B= 80\n",
    "print (not (A>B and B<A))"
   ]
  },
  {
   "cell_type": "markdown",
   "id": "13ac4ffc-5f04-48f9-944b-f76fae06f076",
   "metadata": {},
   "source": [
    "### Identity Operator"
   ]
  },
  {
   "cell_type": "code",
   "execution_count": 39,
   "id": "80c1e8d9-ac8e-41da-ac5c-feb4f7a9dae1",
   "metadata": {},
   "outputs": [
    {
     "data": {
      "text/plain": [
       "False"
      ]
     },
     "execution_count": 39,
     "metadata": {},
     "output_type": "execute_result"
    }
   ],
   "source": [
    "A = 2 \n",
    "B = 5\n",
    "A is B"
   ]
  },
  {
   "cell_type": "code",
   "execution_count": 40,
   "id": "73be9e4f-85c3-4511-a843-48f92288383e",
   "metadata": {},
   "outputs": [
    {
     "data": {
      "text/plain": [
       "False"
      ]
     },
     "execution_count": 40,
     "metadata": {},
     "output_type": "execute_result"
    }
   ],
   "source": [
    "A = 2 \n",
    "B = 5\n",
    "\n",
    "B is A"
   ]
  },
  {
   "cell_type": "code",
   "execution_count": 41,
   "id": "7fd8df65-69fc-40a8-8bea-4090248f083a",
   "metadata": {},
   "outputs": [
    {
     "data": {
      "text/plain": [
       "True"
      ]
     },
     "execution_count": 41,
     "metadata": {},
     "output_type": "execute_result"
    }
   ],
   "source": [
    "A = 2 \n",
    "B = 5\n",
    "A is not B"
   ]
  },
  {
   "cell_type": "markdown",
   "id": "db71acb4-c796-430d-aae2-6865dccbd923",
   "metadata": {},
   "source": [
    "### Memebership Operator"
   ]
  },
  {
   "cell_type": "code",
   "execution_count": 1,
   "id": "8413d22d-5539-4eb8-aab8-750df4c1283c",
   "metadata": {},
   "outputs": [
    {
     "data": {
      "text/plain": [
       "True"
      ]
     },
     "execution_count": 1,
     "metadata": {},
     "output_type": "execute_result"
    }
   ],
   "source": [
    "A = \"Dog\"\n",
    "\"g\"in A"
   ]
  },
  {
   "cell_type": "code",
   "execution_count": 2,
   "id": "c9d87bea-fd60-453d-9243-175637904d7d",
   "metadata": {},
   "outputs": [
    {
     "data": {
      "text/plain": [
       "False"
      ]
     },
     "execution_count": 2,
     "metadata": {},
     "output_type": "execute_result"
    }
   ],
   "source": [
    "A = \"Dog\" \n",
    "\"Z\" in A"
   ]
  },
  {
   "cell_type": "code",
   "execution_count": 3,
   "id": "030a40a8-d407-40c7-a136-3bed11b9bfab",
   "metadata": {},
   "outputs": [
    {
     "data": {
      "text/plain": [
       "False"
      ]
     },
     "execution_count": 3,
     "metadata": {},
     "output_type": "execute_result"
    }
   ],
   "source": [
    "A = \"Dog\"\n",
    "\"o\" not in A"
   ]
  },
  {
   "cell_type": "markdown",
   "id": "11fea846-d151-4bd2-afd0-3c9582ff888c",
   "metadata": {},
   "source": [
    "### Bitwise operator"
   ]
  },
  {
   "cell_type": "code",
   "execution_count": 4,
   "id": "f1da180c-dbf8-4f64-8155-8e9e0302c7b5",
   "metadata": {},
   "outputs": [
    {
     "data": {
      "text/plain": [
       "8"
      ]
     },
     "execution_count": 4,
     "metadata": {},
     "output_type": "execute_result"
    }
   ],
   "source": [
    "a = 10\n",
    "b = 12\n",
    "a & b"
   ]
  },
  {
   "cell_type": "code",
   "execution_count": 6,
   "id": "cfc41eb4-9cea-435a-b6ee-a1a21792435d",
   "metadata": {},
   "outputs": [
    {
     "data": {
      "text/plain": [
       "14"
      ]
     },
     "execution_count": 6,
     "metadata": {},
     "output_type": "execute_result"
    }
   ],
   "source": [
    "a = 10\n",
    "b = 12\n",
    "a | b"
   ]
  },
  {
   "cell_type": "code",
   "execution_count": 7,
   "id": "131290fd-e1c8-4c5e-acc7-12b84822bf7a",
   "metadata": {},
   "outputs": [
    {
     "data": {
      "text/plain": [
       "6"
      ]
     },
     "execution_count": 7,
     "metadata": {},
     "output_type": "execute_result"
    }
   ],
   "source": [
    "a = 10\n",
    "b = 12\n",
    "a^b"
   ]
  },
  {
   "cell_type": "code",
   "execution_count": 9,
   "id": "8c052850-ba0d-4c83-9fb2-c2d732109e16",
   "metadata": {},
   "outputs": [
    {
     "data": {
      "text/plain": [
       "80"
      ]
     },
     "execution_count": 9,
     "metadata": {},
     "output_type": "execute_result"
    }
   ],
   "source": [
    "a = 5\n",
    "b = 4\n",
    "\n",
    "a<<b"
   ]
  },
  {
   "cell_type": "code",
   "execution_count": 10,
   "id": "6d9531c1-c780-4225-8c30-dff264cde44e",
   "metadata": {},
   "outputs": [
    {
     "data": {
      "text/plain": [
       "0"
      ]
     },
     "execution_count": 10,
     "metadata": {},
     "output_type": "execute_result"
    }
   ],
   "source": [
    "a = 2\n",
    "b = 3\n",
    "a>>b"
   ]
  },
  {
   "cell_type": "code",
   "execution_count": 11,
   "id": "25a3358b-3c0d-4586-af89-cf3aa68ce303",
   "metadata": {},
   "outputs": [
    {
     "data": {
      "text/plain": [
       "-13"
      ]
     },
     "execution_count": 11,
     "metadata": {},
     "output_type": "execute_result"
    }
   ],
   "source": [
    "a= 12\n",
    "~a"
   ]
  },
  {
   "cell_type": "code",
   "execution_count": null,
   "id": "b4cadd38-7d71-427c-b77b-8e758b5bfe64",
   "metadata": {},
   "outputs": [],
   "source": []
  }
 ],
 "metadata": {
  "kernelspec": {
   "display_name": "Python [conda env:base] *",
   "language": "python",
   "name": "conda-base-py"
  },
  "language_info": {
   "codemirror_mode": {
    "name": "ipython",
    "version": 3
   },
   "file_extension": ".py",
   "mimetype": "text/x-python",
   "name": "python",
   "nbconvert_exporter": "python",
   "pygments_lexer": "ipython3",
   "version": "3.12.7"
  }
 },
 "nbformat": 4,
 "nbformat_minor": 5
}
