{
 "cells": [
  {
   "cell_type": "code",
   "execution_count": 1,
   "id": "84ba50d0-38bb-476f-b284-348b45450902",
   "metadata": {},
   "outputs": [
    {
     "name": "stdout",
     "output_type": "stream",
     "text": [
      "stradefnition\n"
     ]
    }
   ],
   "source": [
    "A = \"StraDEFNITION\"\n",
    "print(A.casefold())"
   ]
  },
  {
   "cell_type": "code",
   "execution_count": 5,
   "id": "b775e978-ac52-467f-ac8e-d4ec7b25dcaa",
   "metadata": {},
   "outputs": [
    {
     "name": "stdout",
     "output_type": "stream",
     "text": [
      "######Oneplus#######\n"
     ]
    }
   ],
   "source": [
    "A = \"Oneplus\"\n",
    "print(A.center(20, \"#\"))"
   ]
  },
  {
   "cell_type": "code",
   "execution_count": 1,
   "id": "79b50ca1-d5e4-4717-850b-e9c1fe0b0ca1",
   "metadata": {},
   "outputs": [
    {
     "name": "stdout",
     "output_type": "stream",
     "text": [
      "True\n"
     ]
    }
   ],
   "source": [
    "A = \"HEllo!$#%|n world\"\n",
    "print(A.isprintable())"
   ]
  },
  {
   "cell_type": "code",
   "execution_count": 2,
   "id": "0db78724-a549-42dc-9eca-d5fa159f3eaa",
   "metadata": {},
   "outputs": [
    {
     "name": "stdout",
     "output_type": "stream",
     "text": [
      "False\n"
     ]
    }
   ],
   "source": [
    "A = \"HELLO\\nWorld\"\n",
    "print(A.isprintable())"
   ]
  },
  {
   "cell_type": "code",
   "execution_count": 3,
   "id": "0cf5a426-374e-4b21-8d32-c6e7cdfe9973",
   "metadata": {},
   "outputs": [
    {
     "name": "stdout",
     "output_type": "stream",
     "text": [
      "2\n"
     ]
    }
   ],
   "source": [
    "A= \"Welcome to school, Welcome to class\"\n",
    "print(A.count(\"to\"))"
   ]
  },
  {
   "cell_type": "code",
   "execution_count": 7,
   "id": "f1ed2a8f-7386-420a-bcdc-e464f545941b",
   "metadata": {},
   "outputs": [
    {
     "name": "stdout",
     "output_type": "stream",
     "text": [
      "9\n"
     ]
    }
   ],
   "source": [
    "A= \"Welcome to school, Welcome to class\"\n",
    "print(A.find(\"o\", 5,13))"
   ]
  },
  {
   "cell_type": "code",
   "execution_count": 8,
   "id": "6bcf2573-5946-4d9a-b1a2-5b7422376dd0",
   "metadata": {},
   "outputs": [
    {
     "name": "stdout",
     "output_type": "stream",
     "text": [
      "('Welcome ', 'to', ' school, Welcome to class')\n"
     ]
    }
   ],
   "source": [
    "A = \"Welcome to school, Welcome to class\"\n",
    "print(A.partition(\"to\"))"
   ]
  },
  {
   "cell_type": "code",
   "execution_count": 2,
   "id": "618c3bdc-f63c-43be-ab63-d1f76c414db9",
   "metadata": {},
   "outputs": [
    {
     "name": "stdout",
     "output_type": "stream",
     "text": [
      "Welcome to school, Welcome to Maths class\n"
     ]
    }
   ],
   "source": [
    "A = \"Welcome to school, Welcome to class\"\n",
    "print(A.replace(\"class\", \"Maths class\"))"
   ]
  },
  {
   "cell_type": "code",
   "execution_count": 4,
   "id": "83ded741-0a6d-4dca-9f41-e5478cd1b915",
   "metadata": {},
   "outputs": [
    {
     "ename": "TypeError",
     "evalue": "replace expected at least 2 arguments, got 1",
     "output_type": "error",
     "traceback": [
      "\u001b[1;31m---------------------------------------------------------------------------\u001b[0m",
      "\u001b[1;31mTypeError\u001b[0m                                 Traceback (most recent call last)",
      "Cell \u001b[1;32mIn[4], line 2\u001b[0m\n\u001b[0;32m      1\u001b[0m A \u001b[38;5;241m=\u001b[39m \u001b[38;5;124m\"\u001b[39m\u001b[38;5;124mWelcome to school, Welcome to class\u001b[39m\u001b[38;5;124m\"\u001b[39m\n\u001b[1;32m----> 2\u001b[0m \u001b[38;5;28mprint\u001b[39m(A\u001b[38;5;241m.\u001b[39mfind(\u001b[38;5;124m\"\u001b[39m\u001b[38;5;124mschool\u001b[39m\u001b[38;5;124m\"\u001b[39m)\u001b[38;5;129;01mand\u001b[39;00m A\u001b[38;5;241m.\u001b[39mreplace(\u001b[38;5;124m\"\u001b[39m\u001b[38;5;124mCollege\u001b[39m\u001b[38;5;124m\"\u001b[39m))\n",
      "\u001b[1;31mTypeError\u001b[0m: replace expected at least 2 arguments, got 1"
     ]
    }
   ],
   "source": [
    "A = \"Welcome to school, Welcome to class\"\n",
    "print(A.find(\"school\")and A.replace(\"College\"))"
   ]
  },
  {
   "cell_type": "code",
   "execution_count": null,
   "id": "54eb8522-1d8e-4057-a2ce-139db246344c",
   "metadata": {},
   "outputs": [],
   "source": []
  }
 ],
 "metadata": {
  "kernelspec": {
   "display_name": "Python [conda env:base] *",
   "language": "python",
   "name": "conda-base-py"
  },
  "language_info": {
   "codemirror_mode": {
    "name": "ipython",
    "version": 3
   },
   "file_extension": ".py",
   "mimetype": "text/x-python",
   "name": "python",
   "nbconvert_exporter": "python",
   "pygments_lexer": "ipython3",
   "version": "3.12.7"
  }
 },
 "nbformat": 4,
 "nbformat_minor": 5
}
