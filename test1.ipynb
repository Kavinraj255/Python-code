{
 "cells": [
  {
   "cell_type": "markdown",
   "id": "7fa2344e-9613-4e13-9c72-d1ac53ff9d92",
   "metadata": {},
   "source": [
    "### Prime number"
   ]
  },
  {
   "cell_type": "code",
   "execution_count": 11,
   "id": "b3bcd399-d8f5-49d7-a21f-bd00acd6b3a3",
   "metadata": {},
   "outputs": [
    {
     "name": "stdin",
     "output_type": "stream",
     "text": [
      " 6\n"
     ]
    },
    {
     "name": "stdout",
     "output_type": "stream",
     "text": [
      "Its not prime\n"
     ]
    }
   ],
   "source": [
    "a = int(input())\n",
    "if a<=1:\n",
    "    print(\"Its a prime\")\n",
    "for i in range(2, int(a**0.5)+1):\n",
    "    if a%i==0:\n",
    "        print(\"Its not prime\")\n",
    "        break\n",
    "else:\n",
    "     print(\"Its a prime\")"
   ]
  },
  {
   "cell_type": "code",
   "execution_count": null,
   "id": "c126a388-cd4f-4d52-a142-2d0ddf69fe8a",
   "metadata": {},
   "outputs": [],
   "source": []
  }
 ],
 "metadata": {
  "kernelspec": {
   "display_name": "Python 3 (ipykernel)",
   "language": "python",
   "name": "python3"
  },
  "language_info": {
   "codemirror_mode": {
    "name": "ipython",
    "version": 3
   },
   "file_extension": ".py",
   "mimetype": "text/x-python",
   "name": "python",
   "nbconvert_exporter": "python",
   "pygments_lexer": "ipython3",
   "version": "3.12.7"
  }
 },
 "nbformat": 4,
 "nbformat_minor": 5
}
