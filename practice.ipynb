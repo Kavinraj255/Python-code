{
 "cells": [
  {
   "cell_type": "markdown",
   "id": "62cb405e-897f-4c6d-9673-2190873ae514",
   "metadata": {},
   "source": [
    "### Factorial program"
   ]
  },
  {
   "cell_type": "code",
   "execution_count": 8,
   "id": "df4cd055-63d3-4997-978d-b0e224f4f64e",
   "metadata": {},
   "outputs": [
    {
     "name": "stdin",
     "output_type": "stream",
     "text": [
      " 5\n"
     ]
    },
    {
     "name": "stdout",
     "output_type": "stream",
     "text": [
      "120\n"
     ]
    }
   ],
   "source": [
    "a = int(input())\n",
    "fact = 1\n",
    "for i in range(1, a+1):\n",
    "    # print(i)\n",
    "    fact = fact*int(i)\n",
    "print(fact)\n",
    "    "
   ]
  },
  {
   "cell_type": "markdown",
   "id": "b9622c04-0e6b-4733-966c-27c076a5468c",
   "metadata": {},
   "source": [
    "### Armstrong Number"
   ]
  },
  {
   "cell_type": "code",
   "execution_count": 16,
   "id": "8bb5c142-d050-48ef-9d19-1d005e91cc47",
   "metadata": {},
   "outputs": [
    {
     "name": "stdin",
     "output_type": "stream",
     "text": [
      " 153\n"
     ]
    },
    {
     "name": "stdout",
     "output_type": "stream",
     "text": [
      "3\n",
      "3\n",
      "15\n",
      "27\n",
      "Armstrong number\n"
     ]
    }
   ],
   "source": [
    "num= int(input())\n",
    "temp = num\n",
    "sum = 0\n",
    "a = len(str(temp))\n",
    "print(a)\n",
    "rem = temp%10\n",
    "print(rem)\n",
    "temp = temp//10\n",
    "print(temp)\n",
    "sum = sum+rem**a\n",
    "print(sum)\n",
    "\n",
    "while temp>0:\n",
    "    rem = temp%10\n",
    "    sum = sum+rem**a\n",
    "    temp = temp//10\n",
    "if num == sum:\n",
    "    print(\"Armstrong number\")\n",
    "else:\n",
    "    print(\"Not armstrong number\")"
   ]
  },
  {
   "cell_type": "markdown",
   "id": "b45daa29-79c5-4b72-a59e-b7ff214c192e",
   "metadata": {},
   "source": [
    "### Largest of 3 numbers"
   ]
  },
  {
   "cell_type": "code",
   "execution_count": 29,
   "id": "8b19642c-a13d-4c4c-ad63-9e4259329649",
   "metadata": {},
   "outputs": [
    {
     "name": "stdout",
     "output_type": "stream",
     "text": [
      "6\n"
     ]
    }
   ],
   "source": [
    "a = [4,1,9,2,8,6,3]\n",
    "for i in range(len(a)):\n",
    "    for j in range(len(a)-1):\n",
    "        if a[j]>a[j+1]:\n",
    "            a[j],a[j+1] = a[j+1],a[j]\n",
    "print(a[-3])\n",
    "                       \n",
    "\n",
    "      "
   ]
  },
  {
   "cell_type": "code",
   "execution_count": 31,
   "id": "993bd732-dc97-4c04-a5e3-0a27fde28701",
   "metadata": {},
   "outputs": [
    {
     "name": "stdin",
     "output_type": "stream",
     "text": [
      " 12\n",
      " 34\n",
      " 9\n"
     ]
    },
    {
     "name": "stdout",
     "output_type": "stream",
     "text": [
      "34\n"
     ]
    }
   ],
   "source": [
    "num1 = int(input())\n",
    "num2 = int(input())\n",
    "num3 = int(input())\n",
    "if num1>= num2 and num1>=num3:\n",
    "    print(num1)\n",
    "elif num2>= num1 and num2>=num3:\n",
    "    print(num2)\n",
    "else:\n",
    "    print(num3)"
   ]
  },
  {
   "cell_type": "code",
   "execution_count": null,
   "id": "6d7c598f-ab89-44aa-a26d-6cd8ae47e8a9",
   "metadata": {},
   "outputs": [],
   "source": []
  }
 ],
 "metadata": {
  "kernelspec": {
   "display_name": "Python 3 (ipykernel)",
   "language": "python",
   "name": "python3"
  },
  "language_info": {
   "codemirror_mode": {
    "name": "ipython",
    "version": 3
   },
   "file_extension": ".py",
   "mimetype": "text/x-python",
   "name": "python",
   "nbconvert_exporter": "python",
   "pygments_lexer": "ipython3",
   "version": "3.12.7"
  }
 },
 "nbformat": 4,
 "nbformat_minor": 5
}
